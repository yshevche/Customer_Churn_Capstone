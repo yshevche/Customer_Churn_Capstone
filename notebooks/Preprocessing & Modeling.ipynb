{
 "cells": [
  {
   "cell_type": "markdown",
   "id": "23864095-4988-448b-86e8-5d84ab1ce363",
   "metadata": {},
   "source": [
    "### Pre-processing"
   ]
  },
  {
   "cell_type": "markdown",
   "id": "c7f594ab-0dfb-4070-afab-c3ae1ec5ea95",
   "metadata": {},
   "source": [
    "##### Pre-processing is the concept of standardizing your model development dataset"
   ]
  },
  {
   "cell_type": "code",
   "execution_count": 1,
   "id": "8b06e53e-bf85-4b49-b443-91761b8fbbb7",
   "metadata": {},
   "outputs": [],
   "source": [
    "import pandas as pd\n",
    "import numpy as np"
   ]
  },
  {
   "cell_type": "code",
   "execution_count": 2,
   "id": "2d3691ce-cc1c-4a5f-b0d5-9da98c22144e",
   "metadata": {},
   "outputs": [],
   "source": [
    "#Load the file\n",
    "df = pd.read_csv('EDA_Customer_Churn.csv')"
   ]
  },
  {
   "cell_type": "code",
   "execution_count": 3,
   "id": "599a7424-1826-46bb-95e9-de6acfbc7eb8",
   "metadata": {},
   "outputs": [
    {
     "data": {
      "text/html": [
       "<div>\n",
       "<style scoped>\n",
       "    .dataframe tbody tr th:only-of-type {\n",
       "        vertical-align: middle;\n",
       "    }\n",
       "\n",
       "    .dataframe tbody tr th {\n",
       "        vertical-align: top;\n",
       "    }\n",
       "\n",
       "    .dataframe thead th {\n",
       "        text-align: right;\n",
       "    }\n",
       "</style>\n",
       "<table border=\"1\" class=\"dataframe\">\n",
       "  <thead>\n",
       "    <tr style=\"text-align: right;\">\n",
       "      <th></th>\n",
       "      <th>age</th>\n",
       "      <th>gender</th>\n",
       "      <th>security_no</th>\n",
       "      <th>region_category</th>\n",
       "      <th>membership_category</th>\n",
       "      <th>joining_date</th>\n",
       "      <th>joined_through_referral</th>\n",
       "      <th>referral_id</th>\n",
       "      <th>preferred_offer_types</th>\n",
       "      <th>medium_of_operation</th>\n",
       "      <th>internet_option</th>\n",
       "      <th>days_since_last_login</th>\n",
       "      <th>points_in_wallet</th>\n",
       "      <th>used_special_discount</th>\n",
       "      <th>offer_application_preference</th>\n",
       "      <th>past_complaint</th>\n",
       "      <th>complaint_status</th>\n",
       "      <th>feedback</th>\n",
       "      <th>Churn_Category</th>\n",
       "      <th>last_visit_hour</th>\n",
       "    </tr>\n",
       "  </thead>\n",
       "  <tbody>\n",
       "    <tr>\n",
       "      <th>0</th>\n",
       "      <td>18</td>\n",
       "      <td>F</td>\n",
       "      <td>XW0DQ7H</td>\n",
       "      <td>Village</td>\n",
       "      <td>Platinum Membership</td>\n",
       "      <td>2017-08-17</td>\n",
       "      <td>No</td>\n",
       "      <td>xxxxxxxx</td>\n",
       "      <td>Gift Vouchers/Coupons</td>\n",
       "      <td>Unknown</td>\n",
       "      <td>Wi-Fi</td>\n",
       "      <td>17</td>\n",
       "      <td>781.75</td>\n",
       "      <td>Yes</td>\n",
       "      <td>Yes</td>\n",
       "      <td>No</td>\n",
       "      <td>Not Applicable</td>\n",
       "      <td>Products always in Stock</td>\n",
       "      <td>1.0</td>\n",
       "      <td>16</td>\n",
       "    </tr>\n",
       "    <tr>\n",
       "      <th>1</th>\n",
       "      <td>32</td>\n",
       "      <td>F</td>\n",
       "      <td>5K0N3X1</td>\n",
       "      <td>City</td>\n",
       "      <td>Premium Membership</td>\n",
       "      <td>2017-08-28</td>\n",
       "      <td>Unknown</td>\n",
       "      <td>CID21329</td>\n",
       "      <td>Gift Vouchers/Coupons</td>\n",
       "      <td>Desktop</td>\n",
       "      <td>Mobile_Data</td>\n",
       "      <td>16</td>\n",
       "      <td>0.00</td>\n",
       "      <td>Yes</td>\n",
       "      <td>No</td>\n",
       "      <td>Yes</td>\n",
       "      <td>Solved</td>\n",
       "      <td>Quality Customer Care</td>\n",
       "      <td>1.0</td>\n",
       "      <td>12</td>\n",
       "    </tr>\n",
       "    <tr>\n",
       "      <th>2</th>\n",
       "      <td>44</td>\n",
       "      <td>F</td>\n",
       "      <td>1F2TCL3</td>\n",
       "      <td>Town</td>\n",
       "      <td>No Membership</td>\n",
       "      <td>2016-11-11</td>\n",
       "      <td>Yes</td>\n",
       "      <td>CID12313</td>\n",
       "      <td>Gift Vouchers/Coupons</td>\n",
       "      <td>Desktop</td>\n",
       "      <td>Wi-Fi</td>\n",
       "      <td>14</td>\n",
       "      <td>500.69</td>\n",
       "      <td>No</td>\n",
       "      <td>Yes</td>\n",
       "      <td>Yes</td>\n",
       "      <td>Solved in Follow-up</td>\n",
       "      <td>Poor Website</td>\n",
       "      <td>1.0</td>\n",
       "      <td>22</td>\n",
       "    </tr>\n",
       "    <tr>\n",
       "      <th>3</th>\n",
       "      <td>37</td>\n",
       "      <td>M</td>\n",
       "      <td>VJGJ33N</td>\n",
       "      <td>City</td>\n",
       "      <td>No Membership</td>\n",
       "      <td>2016-10-29</td>\n",
       "      <td>Yes</td>\n",
       "      <td>CID3793</td>\n",
       "      <td>Gift Vouchers/Coupons</td>\n",
       "      <td>Desktop</td>\n",
       "      <td>Mobile_Data</td>\n",
       "      <td>11</td>\n",
       "      <td>567.66</td>\n",
       "      <td>No</td>\n",
       "      <td>Yes</td>\n",
       "      <td>Yes</td>\n",
       "      <td>Unsolved</td>\n",
       "      <td>Poor Website</td>\n",
       "      <td>1.0</td>\n",
       "      <td>15</td>\n",
       "    </tr>\n",
       "    <tr>\n",
       "      <th>4</th>\n",
       "      <td>31</td>\n",
       "      <td>F</td>\n",
       "      <td>SVZXCWB</td>\n",
       "      <td>City</td>\n",
       "      <td>No Membership</td>\n",
       "      <td>2017-09-12</td>\n",
       "      <td>No</td>\n",
       "      <td>xxxxxxxx</td>\n",
       "      <td>Credit/Debit Card Offers</td>\n",
       "      <td>Smartphone</td>\n",
       "      <td>Mobile_Data</td>\n",
       "      <td>20</td>\n",
       "      <td>663.06</td>\n",
       "      <td>No</td>\n",
       "      <td>Yes</td>\n",
       "      <td>Yes</td>\n",
       "      <td>Solved</td>\n",
       "      <td>Poor Website</td>\n",
       "      <td>1.0</td>\n",
       "      <td>15</td>\n",
       "    </tr>\n",
       "  </tbody>\n",
       "</table>\n",
       "</div>"
      ],
      "text/plain": [
       "   age gender security_no region_category  membership_category joining_date  \\\n",
       "0   18      F     XW0DQ7H         Village  Platinum Membership   2017-08-17   \n",
       "1   32      F     5K0N3X1            City   Premium Membership   2017-08-28   \n",
       "2   44      F     1F2TCL3            Town        No Membership   2016-11-11   \n",
       "3   37      M     VJGJ33N            City        No Membership   2016-10-29   \n",
       "4   31      F     SVZXCWB            City        No Membership   2017-09-12   \n",
       "\n",
       "  joined_through_referral referral_id     preferred_offer_types  \\\n",
       "0                      No    xxxxxxxx     Gift Vouchers/Coupons   \n",
       "1                 Unknown    CID21329     Gift Vouchers/Coupons   \n",
       "2                     Yes    CID12313     Gift Vouchers/Coupons   \n",
       "3                     Yes     CID3793     Gift Vouchers/Coupons   \n",
       "4                      No    xxxxxxxx  Credit/Debit Card Offers   \n",
       "\n",
       "  medium_of_operation internet_option  days_since_last_login  \\\n",
       "0             Unknown           Wi-Fi                     17   \n",
       "1             Desktop     Mobile_Data                     16   \n",
       "2             Desktop           Wi-Fi                     14   \n",
       "3             Desktop     Mobile_Data                     11   \n",
       "4          Smartphone     Mobile_Data                     20   \n",
       "\n",
       "   points_in_wallet used_special_discount offer_application_preference  \\\n",
       "0            781.75                   Yes                          Yes   \n",
       "1              0.00                   Yes                           No   \n",
       "2            500.69                    No                          Yes   \n",
       "3            567.66                    No                          Yes   \n",
       "4            663.06                    No                          Yes   \n",
       "\n",
       "  past_complaint     complaint_status                  feedback  \\\n",
       "0             No       Not Applicable  Products always in Stock   \n",
       "1            Yes               Solved     Quality Customer Care   \n",
       "2            Yes  Solved in Follow-up              Poor Website   \n",
       "3            Yes             Unsolved              Poor Website   \n",
       "4            Yes               Solved              Poor Website   \n",
       "\n",
       "   Churn_Category  last_visit_hour  \n",
       "0             1.0               16  \n",
       "1             1.0               12  \n",
       "2             1.0               22  \n",
       "3             1.0               15  \n",
       "4             1.0               15  "
      ]
     },
     "execution_count": 3,
     "metadata": {},
     "output_type": "execute_result"
    }
   ],
   "source": [
    "df.head()"
   ]
  },
  {
   "cell_type": "code",
   "execution_count": 4,
   "id": "480eddba-ae66-4126-9dc3-ab02bf044ed0",
   "metadata": {},
   "outputs": [],
   "source": [
    "df['joining_date'] = pd.to_datetime(df['joining_date'])"
   ]
  },
  {
   "cell_type": "code",
   "execution_count": 5,
   "id": "861bbb78-166a-4c57-b18a-edafaeff6691",
   "metadata": {},
   "outputs": [
    {
     "name": "stdout",
     "output_type": "stream",
     "text": [
      "<class 'pandas.core.frame.DataFrame'>\n",
      "RangeIndex: 36992 entries, 0 to 36991\n",
      "Data columns (total 20 columns):\n",
      " #   Column                        Non-Null Count  Dtype         \n",
      "---  ------                        --------------  -----         \n",
      " 0   age                           36992 non-null  int64         \n",
      " 1   gender                        36992 non-null  object        \n",
      " 2   security_no                   36992 non-null  object        \n",
      " 3   region_category               36992 non-null  object        \n",
      " 4   membership_category           36992 non-null  object        \n",
      " 5   joining_date                  36992 non-null  datetime64[ns]\n",
      " 6   joined_through_referral       36992 non-null  object        \n",
      " 7   referral_id                   36992 non-null  object        \n",
      " 8   preferred_offer_types         36992 non-null  object        \n",
      " 9   medium_of_operation           36992 non-null  object        \n",
      " 10  internet_option               36992 non-null  object        \n",
      " 11  days_since_last_login         36992 non-null  int64         \n",
      " 12  points_in_wallet              36992 non-null  float64       \n",
      " 13  used_special_discount         36992 non-null  object        \n",
      " 14  offer_application_preference  36992 non-null  object        \n",
      " 15  past_complaint                36992 non-null  object        \n",
      " 16  complaint_status              36992 non-null  object        \n",
      " 17  feedback                      36992 non-null  object        \n",
      " 18  Churn_Category                36992 non-null  float64       \n",
      " 19  last_visit_hour               36992 non-null  int64         \n",
      "dtypes: datetime64[ns](1), float64(2), int64(3), object(14)\n",
      "memory usage: 5.6+ MB\n"
     ]
    }
   ],
   "source": [
    "df.info()"
   ]
  },
  {
   "cell_type": "code",
   "execution_count": 6,
   "id": "ed3f7f90-382f-4d47-b377-dfd67f689300",
   "metadata": {},
   "outputs": [
    {
     "data": {
      "text/plain": [
       "xxxxxxxx    17846\n",
       "CID43705       12\n",
       "CID3979        11\n",
       "CID49601       10\n",
       "CID15792        9\n",
       "            ...  \n",
       "CID28755        1\n",
       "CID62237        1\n",
       "CID23663        1\n",
       "CID23071        1\n",
       "CID45477        1\n",
       "Name: referral_id, Length: 11359, dtype: int64"
      ]
     },
     "execution_count": 6,
     "metadata": {},
     "output_type": "execute_result"
    }
   ],
   "source": [
    "df['referral_id'].value_counts() "
   ]
  },
  {
   "cell_type": "code",
   "execution_count": 7,
   "id": "28bb8978-3091-4c25-8e5b-88f54eaa440b",
   "metadata": {},
   "outputs": [
    {
     "data": {
      "text/html": [
       "<div>\n",
       "<style scoped>\n",
       "    .dataframe tbody tr th:only-of-type {\n",
       "        vertical-align: middle;\n",
       "    }\n",
       "\n",
       "    .dataframe tbody tr th {\n",
       "        vertical-align: top;\n",
       "    }\n",
       "\n",
       "    .dataframe thead th {\n",
       "        text-align: right;\n",
       "    }\n",
       "</style>\n",
       "<table border=\"1\" class=\"dataframe\">\n",
       "  <thead>\n",
       "    <tr style=\"text-align: right;\">\n",
       "      <th></th>\n",
       "      <th>age</th>\n",
       "      <th>gender</th>\n",
       "      <th>security_no</th>\n",
       "      <th>region_category</th>\n",
       "      <th>membership_category</th>\n",
       "      <th>joining_date</th>\n",
       "      <th>joined_through_referral</th>\n",
       "      <th>referral_id</th>\n",
       "      <th>preferred_offer_types</th>\n",
       "      <th>medium_of_operation</th>\n",
       "      <th>...</th>\n",
       "      <th>days_since_last_login</th>\n",
       "      <th>points_in_wallet</th>\n",
       "      <th>used_special_discount</th>\n",
       "      <th>offer_application_preference</th>\n",
       "      <th>past_complaint</th>\n",
       "      <th>complaint_status</th>\n",
       "      <th>feedback</th>\n",
       "      <th>Churn_Category</th>\n",
       "      <th>last_visit_hour</th>\n",
       "      <th>referral_id_enc</th>\n",
       "    </tr>\n",
       "  </thead>\n",
       "  <tbody>\n",
       "    <tr>\n",
       "      <th>0</th>\n",
       "      <td>18</td>\n",
       "      <td>F</td>\n",
       "      <td>XW0DQ7H</td>\n",
       "      <td>Village</td>\n",
       "      <td>Platinum Membership</td>\n",
       "      <td>2017-08-17</td>\n",
       "      <td>No</td>\n",
       "      <td>xxxxxxxx</td>\n",
       "      <td>Gift Vouchers/Coupons</td>\n",
       "      <td>Unknown</td>\n",
       "      <td>...</td>\n",
       "      <td>17</td>\n",
       "      <td>781.75</td>\n",
       "      <td>Yes</td>\n",
       "      <td>Yes</td>\n",
       "      <td>No</td>\n",
       "      <td>Not Applicable</td>\n",
       "      <td>Products always in Stock</td>\n",
       "      <td>1.0</td>\n",
       "      <td>16</td>\n",
       "      <td>11358</td>\n",
       "    </tr>\n",
       "    <tr>\n",
       "      <th>1</th>\n",
       "      <td>32</td>\n",
       "      <td>F</td>\n",
       "      <td>5K0N3X1</td>\n",
       "      <td>City</td>\n",
       "      <td>Premium Membership</td>\n",
       "      <td>2017-08-28</td>\n",
       "      <td>Unknown</td>\n",
       "      <td>CID21329</td>\n",
       "      <td>Gift Vouchers/Coupons</td>\n",
       "      <td>Desktop</td>\n",
       "      <td>...</td>\n",
       "      <td>16</td>\n",
       "      <td>0.00</td>\n",
       "      <td>Yes</td>\n",
       "      <td>No</td>\n",
       "      <td>Yes</td>\n",
       "      <td>Solved</td>\n",
       "      <td>Quality Customer Care</td>\n",
       "      <td>1.0</td>\n",
       "      <td>12</td>\n",
       "      <td>2225</td>\n",
       "    </tr>\n",
       "    <tr>\n",
       "      <th>2</th>\n",
       "      <td>44</td>\n",
       "      <td>F</td>\n",
       "      <td>1F2TCL3</td>\n",
       "      <td>Town</td>\n",
       "      <td>No Membership</td>\n",
       "      <td>2016-11-11</td>\n",
       "      <td>Yes</td>\n",
       "      <td>CID12313</td>\n",
       "      <td>Gift Vouchers/Coupons</td>\n",
       "      <td>Desktop</td>\n",
       "      <td>...</td>\n",
       "      <td>14</td>\n",
       "      <td>500.69</td>\n",
       "      <td>No</td>\n",
       "      <td>Yes</td>\n",
       "      <td>Yes</td>\n",
       "      <td>Solved in Follow-up</td>\n",
       "      <td>Poor Website</td>\n",
       "      <td>1.0</td>\n",
       "      <td>22</td>\n",
       "      <td>471</td>\n",
       "    </tr>\n",
       "    <tr>\n",
       "      <th>3</th>\n",
       "      <td>37</td>\n",
       "      <td>M</td>\n",
       "      <td>VJGJ33N</td>\n",
       "      <td>City</td>\n",
       "      <td>No Membership</td>\n",
       "      <td>2016-10-29</td>\n",
       "      <td>Yes</td>\n",
       "      <td>CID3793</td>\n",
       "      <td>Gift Vouchers/Coupons</td>\n",
       "      <td>Desktop</td>\n",
       "      <td>...</td>\n",
       "      <td>11</td>\n",
       "      <td>567.66</td>\n",
       "      <td>No</td>\n",
       "      <td>Yes</td>\n",
       "      <td>Yes</td>\n",
       "      <td>Unsolved</td>\n",
       "      <td>Poor Website</td>\n",
       "      <td>1.0</td>\n",
       "      <td>15</td>\n",
       "      <td>5506</td>\n",
       "    </tr>\n",
       "    <tr>\n",
       "      <th>4</th>\n",
       "      <td>31</td>\n",
       "      <td>F</td>\n",
       "      <td>SVZXCWB</td>\n",
       "      <td>City</td>\n",
       "      <td>No Membership</td>\n",
       "      <td>2017-09-12</td>\n",
       "      <td>No</td>\n",
       "      <td>xxxxxxxx</td>\n",
       "      <td>Credit/Debit Card Offers</td>\n",
       "      <td>Smartphone</td>\n",
       "      <td>...</td>\n",
       "      <td>20</td>\n",
       "      <td>663.06</td>\n",
       "      <td>No</td>\n",
       "      <td>Yes</td>\n",
       "      <td>Yes</td>\n",
       "      <td>Solved</td>\n",
       "      <td>Poor Website</td>\n",
       "      <td>1.0</td>\n",
       "      <td>15</td>\n",
       "      <td>11358</td>\n",
       "    </tr>\n",
       "    <tr>\n",
       "      <th>5</th>\n",
       "      <td>13</td>\n",
       "      <td>M</td>\n",
       "      <td>PSG1LGF</td>\n",
       "      <td>City</td>\n",
       "      <td>Gold Membership</td>\n",
       "      <td>2016-01-08</td>\n",
       "      <td>No</td>\n",
       "      <td>xxxxxxxx</td>\n",
       "      <td>Gift Vouchers/Coupons</td>\n",
       "      <td>Unknown</td>\n",
       "      <td>...</td>\n",
       "      <td>23</td>\n",
       "      <td>722.27</td>\n",
       "      <td>Yes</td>\n",
       "      <td>No</td>\n",
       "      <td>Yes</td>\n",
       "      <td>Unsolved</td>\n",
       "      <td>No reason specified</td>\n",
       "      <td>1.0</td>\n",
       "      <td>6</td>\n",
       "      <td>11358</td>\n",
       "    </tr>\n",
       "    <tr>\n",
       "      <th>6</th>\n",
       "      <td>21</td>\n",
       "      <td>M</td>\n",
       "      <td>R3CX1EA</td>\n",
       "      <td>Town</td>\n",
       "      <td>Gold Membership</td>\n",
       "      <td>2015-03-19</td>\n",
       "      <td>Yes</td>\n",
       "      <td>CID24708</td>\n",
       "      <td>Gift Vouchers/Coupons</td>\n",
       "      <td>Desktop</td>\n",
       "      <td>...</td>\n",
       "      <td>10</td>\n",
       "      <td>756.21</td>\n",
       "      <td>Yes</td>\n",
       "      <td>No</td>\n",
       "      <td>Yes</td>\n",
       "      <td>Solved in Follow-up</td>\n",
       "      <td>No reason specified</td>\n",
       "      <td>1.0</td>\n",
       "      <td>11</td>\n",
       "      <td>2903</td>\n",
       "    </tr>\n",
       "    <tr>\n",
       "      <th>7</th>\n",
       "      <td>42</td>\n",
       "      <td>M</td>\n",
       "      <td>4UJ1551</td>\n",
       "      <td>Unknown</td>\n",
       "      <td>No Membership</td>\n",
       "      <td>2016-07-12</td>\n",
       "      <td>Unknown</td>\n",
       "      <td>CID56614</td>\n",
       "      <td>Credit/Debit Card Offers</td>\n",
       "      <td>Both</td>\n",
       "      <td>...</td>\n",
       "      <td>19</td>\n",
       "      <td>568.08</td>\n",
       "      <td>No</td>\n",
       "      <td>Yes</td>\n",
       "      <td>Yes</td>\n",
       "      <td>Unsolved</td>\n",
       "      <td>Poor Product Quality</td>\n",
       "      <td>1.0</td>\n",
       "      <td>7</td>\n",
       "      <td>9165</td>\n",
       "    </tr>\n",
       "    <tr>\n",
       "      <th>8</th>\n",
       "      <td>44</td>\n",
       "      <td>M</td>\n",
       "      <td>0481QNQ</td>\n",
       "      <td>Village</td>\n",
       "      <td>Silver Membership</td>\n",
       "      <td>2016-12-14</td>\n",
       "      <td>No</td>\n",
       "      <td>xxxxxxxx</td>\n",
       "      <td>Without Offers</td>\n",
       "      <td>Smartphone</td>\n",
       "      <td>...</td>\n",
       "      <td>15</td>\n",
       "      <td>0.00</td>\n",
       "      <td>Yes</td>\n",
       "      <td>No</td>\n",
       "      <td>Yes</td>\n",
       "      <td>Solved in Follow-up</td>\n",
       "      <td>Poor Customer Service</td>\n",
       "      <td>1.0</td>\n",
       "      <td>6</td>\n",
       "      <td>11358</td>\n",
       "    </tr>\n",
       "    <tr>\n",
       "      <th>9</th>\n",
       "      <td>45</td>\n",
       "      <td>F</td>\n",
       "      <td>ZHP4MCR</td>\n",
       "      <td>Town</td>\n",
       "      <td>No Membership</td>\n",
       "      <td>2016-11-30</td>\n",
       "      <td>No</td>\n",
       "      <td>xxxxxxxx</td>\n",
       "      <td>Gift Vouchers/Coupons</td>\n",
       "      <td>Unknown</td>\n",
       "      <td>...</td>\n",
       "      <td>10</td>\n",
       "      <td>706.23</td>\n",
       "      <td>No</td>\n",
       "      <td>Yes</td>\n",
       "      <td>Yes</td>\n",
       "      <td>No Information Available</td>\n",
       "      <td>Poor Customer Service</td>\n",
       "      <td>1.0</td>\n",
       "      <td>19</td>\n",
       "      <td>11358</td>\n",
       "    </tr>\n",
       "  </tbody>\n",
       "</table>\n",
       "<p>10 rows × 21 columns</p>\n",
       "</div>"
      ],
      "text/plain": [
       "   age gender security_no region_category  membership_category joining_date  \\\n",
       "0   18      F     XW0DQ7H         Village  Platinum Membership   2017-08-17   \n",
       "1   32      F     5K0N3X1            City   Premium Membership   2017-08-28   \n",
       "2   44      F     1F2TCL3            Town        No Membership   2016-11-11   \n",
       "3   37      M     VJGJ33N            City        No Membership   2016-10-29   \n",
       "4   31      F     SVZXCWB            City        No Membership   2017-09-12   \n",
       "5   13      M     PSG1LGF            City      Gold Membership   2016-01-08   \n",
       "6   21      M     R3CX1EA            Town      Gold Membership   2015-03-19   \n",
       "7   42      M     4UJ1551         Unknown        No Membership   2016-07-12   \n",
       "8   44      M     0481QNQ         Village    Silver Membership   2016-12-14   \n",
       "9   45      F     ZHP4MCR            Town        No Membership   2016-11-30   \n",
       "\n",
       "  joined_through_referral referral_id     preferred_offer_types  \\\n",
       "0                      No    xxxxxxxx     Gift Vouchers/Coupons   \n",
       "1                 Unknown    CID21329     Gift Vouchers/Coupons   \n",
       "2                     Yes    CID12313     Gift Vouchers/Coupons   \n",
       "3                     Yes     CID3793     Gift Vouchers/Coupons   \n",
       "4                      No    xxxxxxxx  Credit/Debit Card Offers   \n",
       "5                      No    xxxxxxxx     Gift Vouchers/Coupons   \n",
       "6                     Yes    CID24708     Gift Vouchers/Coupons   \n",
       "7                 Unknown    CID56614  Credit/Debit Card Offers   \n",
       "8                      No    xxxxxxxx            Without Offers   \n",
       "9                      No    xxxxxxxx     Gift Vouchers/Coupons   \n",
       "\n",
       "  medium_of_operation  ... days_since_last_login  points_in_wallet  \\\n",
       "0             Unknown  ...                    17            781.75   \n",
       "1             Desktop  ...                    16              0.00   \n",
       "2             Desktop  ...                    14            500.69   \n",
       "3             Desktop  ...                    11            567.66   \n",
       "4          Smartphone  ...                    20            663.06   \n",
       "5             Unknown  ...                    23            722.27   \n",
       "6             Desktop  ...                    10            756.21   \n",
       "7                Both  ...                    19            568.08   \n",
       "8          Smartphone  ...                    15              0.00   \n",
       "9             Unknown  ...                    10            706.23   \n",
       "\n",
       "   used_special_discount offer_application_preference past_complaint  \\\n",
       "0                    Yes                          Yes             No   \n",
       "1                    Yes                           No            Yes   \n",
       "2                     No                          Yes            Yes   \n",
       "3                     No                          Yes            Yes   \n",
       "4                     No                          Yes            Yes   \n",
       "5                    Yes                           No            Yes   \n",
       "6                    Yes                           No            Yes   \n",
       "7                     No                          Yes            Yes   \n",
       "8                    Yes                           No            Yes   \n",
       "9                     No                          Yes            Yes   \n",
       "\n",
       "           complaint_status                  feedback Churn_Category  \\\n",
       "0            Not Applicable  Products always in Stock            1.0   \n",
       "1                    Solved     Quality Customer Care            1.0   \n",
       "2       Solved in Follow-up              Poor Website            1.0   \n",
       "3                  Unsolved              Poor Website            1.0   \n",
       "4                    Solved              Poor Website            1.0   \n",
       "5                  Unsolved       No reason specified            1.0   \n",
       "6       Solved in Follow-up       No reason specified            1.0   \n",
       "7                  Unsolved      Poor Product Quality            1.0   \n",
       "8       Solved in Follow-up     Poor Customer Service            1.0   \n",
       "9  No Information Available     Poor Customer Service            1.0   \n",
       "\n",
       "   last_visit_hour  referral_id_enc  \n",
       "0               16            11358  \n",
       "1               12             2225  \n",
       "2               22              471  \n",
       "3               15             5506  \n",
       "4               15            11358  \n",
       "5                6            11358  \n",
       "6               11             2903  \n",
       "7                7             9165  \n",
       "8                6            11358  \n",
       "9               19            11358  \n",
       "\n",
       "[10 rows x 21 columns]"
      ]
     },
     "execution_count": 7,
     "metadata": {},
     "output_type": "execute_result"
    }
   ],
   "source": [
    "from sklearn.preprocessing import LabelEncoder\n",
    "df['referral_id_enc'] = LabelEncoder().fit_transform(df['referral_id'])\n",
    "df.head(10)"
   ]
  },
  {
   "cell_type": "code",
   "execution_count": 8,
   "id": "c7e7ece6-b05f-4882-9185-1adfe326e9d6",
   "metadata": {},
   "outputs": [],
   "source": [
    "#one hot encode these columns\n",
    "categorical_columns = ['gender', 'region_category', 'membership_category', 'joined_through_referral', 'preferred_offer_types',\n",
    "                       'medium_of_operation', 'internet_option', 'used_special_discount', 'offer_application_preference', 'past_complaint',\n",
    "                       'complaint_status', 'feedback']\n",
    "dummy_df = pd.get_dummies(df,columns= categorical_columns)\n"
   ]
  },
  {
   "cell_type": "code",
   "execution_count": 9,
   "id": "dc49d0c6-05bf-4a00-b2d7-cc22203915c6",
   "metadata": {},
   "outputs": [
    {
     "name": "stdout",
     "output_type": "stream",
     "text": [
      "<class 'pandas.core.frame.DataFrame'>\n",
      "RangeIndex: 36992 entries, 0 to 36991\n",
      "Data columns (total 56 columns):\n",
      " #   Column                                          Non-Null Count  Dtype         \n",
      "---  ------                                          --------------  -----         \n",
      " 0   age                                             36992 non-null  int64         \n",
      " 1   security_no                                     36992 non-null  object        \n",
      " 2   joining_date                                    36992 non-null  datetime64[ns]\n",
      " 3   referral_id                                     36992 non-null  object        \n",
      " 4   days_since_last_login                           36992 non-null  int64         \n",
      " 5   points_in_wallet                                36992 non-null  float64       \n",
      " 6   Churn_Category                                  36992 non-null  float64       \n",
      " 7   last_visit_hour                                 36992 non-null  int64         \n",
      " 8   referral_id_enc                                 36992 non-null  int64         \n",
      " 9   gender_F                                        36992 non-null  uint8         \n",
      " 10  gender_M                                        36992 non-null  uint8         \n",
      " 11  gender_Unknown                                  36992 non-null  uint8         \n",
      " 12  region_category_City                            36992 non-null  uint8         \n",
      " 13  region_category_Town                            36992 non-null  uint8         \n",
      " 14  region_category_Unknown                         36992 non-null  uint8         \n",
      " 15  region_category_Village                         36992 non-null  uint8         \n",
      " 16  membership_category_Basic Membership            36992 non-null  uint8         \n",
      " 17  membership_category_Gold Membership             36992 non-null  uint8         \n",
      " 18  membership_category_No Membership               36992 non-null  uint8         \n",
      " 19  membership_category_Platinum Membership         36992 non-null  uint8         \n",
      " 20  membership_category_Premium Membership          36992 non-null  uint8         \n",
      " 21  membership_category_Silver Membership           36992 non-null  uint8         \n",
      " 22  joined_through_referral_No                      36992 non-null  uint8         \n",
      " 23  joined_through_referral_Unknown                 36992 non-null  uint8         \n",
      " 24  joined_through_referral_Yes                     36992 non-null  uint8         \n",
      " 25  preferred_offer_types_Credit/Debit Card Offers  36992 non-null  uint8         \n",
      " 26  preferred_offer_types_Gift Vouchers/Coupons     36992 non-null  uint8         \n",
      " 27  preferred_offer_types_Unknown                   36992 non-null  uint8         \n",
      " 28  preferred_offer_types_Without Offers            36992 non-null  uint8         \n",
      " 29  medium_of_operation_Both                        36992 non-null  uint8         \n",
      " 30  medium_of_operation_Desktop                     36992 non-null  uint8         \n",
      " 31  medium_of_operation_Smartphone                  36992 non-null  uint8         \n",
      " 32  medium_of_operation_Unknown                     36992 non-null  uint8         \n",
      " 33  internet_option_Fiber_Optic                     36992 non-null  uint8         \n",
      " 34  internet_option_Mobile_Data                     36992 non-null  uint8         \n",
      " 35  internet_option_Wi-Fi                           36992 non-null  uint8         \n",
      " 36  used_special_discount_No                        36992 non-null  uint8         \n",
      " 37  used_special_discount_Yes                       36992 non-null  uint8         \n",
      " 38  offer_application_preference_No                 36992 non-null  uint8         \n",
      " 39  offer_application_preference_Yes                36992 non-null  uint8         \n",
      " 40  past_complaint_No                               36992 non-null  uint8         \n",
      " 41  past_complaint_Yes                              36992 non-null  uint8         \n",
      " 42  complaint_status_No Information Available       36992 non-null  uint8         \n",
      " 43  complaint_status_Not Applicable                 36992 non-null  uint8         \n",
      " 44  complaint_status_Solved                         36992 non-null  uint8         \n",
      " 45  complaint_status_Solved in Follow-up            36992 non-null  uint8         \n",
      " 46  complaint_status_Unsolved                       36992 non-null  uint8         \n",
      " 47  feedback_No reason specified                    36992 non-null  uint8         \n",
      " 48  feedback_Poor Customer Service                  36992 non-null  uint8         \n",
      " 49  feedback_Poor Product Quality                   36992 non-null  uint8         \n",
      " 50  feedback_Poor Website                           36992 non-null  uint8         \n",
      " 51  feedback_Products always in Stock               36992 non-null  uint8         \n",
      " 52  feedback_Quality Customer Care                  36992 non-null  uint8         \n",
      " 53  feedback_Reasonable Price                       36992 non-null  uint8         \n",
      " 54  feedback_Too many ads                           36992 non-null  uint8         \n",
      " 55  feedback_User Friendly Website                  36992 non-null  uint8         \n",
      "dtypes: datetime64[ns](1), float64(2), int64(4), object(2), uint8(47)\n",
      "memory usage: 4.2+ MB\n"
     ]
    }
   ],
   "source": [
    "dummy_df.info()"
   ]
  },
  {
   "cell_type": "code",
   "execution_count": 10,
   "id": "08e9cacc-63a8-4c7a-90a7-244aa35c708f",
   "metadata": {},
   "outputs": [],
   "source": [
    "#standardization performed to binary encode categorical variables "
   ]
  },
  {
   "cell_type": "markdown",
   "id": "e61be70a-7215-4277-a8ff-082f3ce7ca3e",
   "metadata": {},
   "source": [
    "#### Train/Test Split"
   ]
  },
  {
   "cell_type": "code",
   "execution_count": 11,
   "id": "600c02db-df6c-4397-a0e1-b949c1ec7dcb",
   "metadata": {},
   "outputs": [],
   "source": [
    "from sklearn.model_selection import train_test_split"
   ]
  },
  {
   "cell_type": "code",
   "execution_count": 12,
   "id": "eaba08bb-8193-43b0-af6e-1c5e7aea1e4a",
   "metadata": {},
   "outputs": [],
   "source": [
    "#Features\n",
    "X = dummy_df.loc[:, ~dummy_df.columns.isin(['Churn_Category', 'days_since_last_login', 'security_no','referral_id','joining_date'])]"
   ]
  },
  {
   "cell_type": "code",
   "execution_count": 13,
   "id": "4aff2bd6-dc4a-4606-bc74-962a5b9c5688",
   "metadata": {},
   "outputs": [
    {
     "name": "stdout",
     "output_type": "stream",
     "text": [
      "<class 'pandas.core.frame.DataFrame'>\n",
      "RangeIndex: 36992 entries, 0 to 36991\n",
      "Data columns (total 51 columns):\n",
      " #   Column                                          Non-Null Count  Dtype  \n",
      "---  ------                                          --------------  -----  \n",
      " 0   age                                             36992 non-null  int64  \n",
      " 1   points_in_wallet                                36992 non-null  float64\n",
      " 2   last_visit_hour                                 36992 non-null  int64  \n",
      " 3   referral_id_enc                                 36992 non-null  int64  \n",
      " 4   gender_F                                        36992 non-null  uint8  \n",
      " 5   gender_M                                        36992 non-null  uint8  \n",
      " 6   gender_Unknown                                  36992 non-null  uint8  \n",
      " 7   region_category_City                            36992 non-null  uint8  \n",
      " 8   region_category_Town                            36992 non-null  uint8  \n",
      " 9   region_category_Unknown                         36992 non-null  uint8  \n",
      " 10  region_category_Village                         36992 non-null  uint8  \n",
      " 11  membership_category_Basic Membership            36992 non-null  uint8  \n",
      " 12  membership_category_Gold Membership             36992 non-null  uint8  \n",
      " 13  membership_category_No Membership               36992 non-null  uint8  \n",
      " 14  membership_category_Platinum Membership         36992 non-null  uint8  \n",
      " 15  membership_category_Premium Membership          36992 non-null  uint8  \n",
      " 16  membership_category_Silver Membership           36992 non-null  uint8  \n",
      " 17  joined_through_referral_No                      36992 non-null  uint8  \n",
      " 18  joined_through_referral_Unknown                 36992 non-null  uint8  \n",
      " 19  joined_through_referral_Yes                     36992 non-null  uint8  \n",
      " 20  preferred_offer_types_Credit/Debit Card Offers  36992 non-null  uint8  \n",
      " 21  preferred_offer_types_Gift Vouchers/Coupons     36992 non-null  uint8  \n",
      " 22  preferred_offer_types_Unknown                   36992 non-null  uint8  \n",
      " 23  preferred_offer_types_Without Offers            36992 non-null  uint8  \n",
      " 24  medium_of_operation_Both                        36992 non-null  uint8  \n",
      " 25  medium_of_operation_Desktop                     36992 non-null  uint8  \n",
      " 26  medium_of_operation_Smartphone                  36992 non-null  uint8  \n",
      " 27  medium_of_operation_Unknown                     36992 non-null  uint8  \n",
      " 28  internet_option_Fiber_Optic                     36992 non-null  uint8  \n",
      " 29  internet_option_Mobile_Data                     36992 non-null  uint8  \n",
      " 30  internet_option_Wi-Fi                           36992 non-null  uint8  \n",
      " 31  used_special_discount_No                        36992 non-null  uint8  \n",
      " 32  used_special_discount_Yes                       36992 non-null  uint8  \n",
      " 33  offer_application_preference_No                 36992 non-null  uint8  \n",
      " 34  offer_application_preference_Yes                36992 non-null  uint8  \n",
      " 35  past_complaint_No                               36992 non-null  uint8  \n",
      " 36  past_complaint_Yes                              36992 non-null  uint8  \n",
      " 37  complaint_status_No Information Available       36992 non-null  uint8  \n",
      " 38  complaint_status_Not Applicable                 36992 non-null  uint8  \n",
      " 39  complaint_status_Solved                         36992 non-null  uint8  \n",
      " 40  complaint_status_Solved in Follow-up            36992 non-null  uint8  \n",
      " 41  complaint_status_Unsolved                       36992 non-null  uint8  \n",
      " 42  feedback_No reason specified                    36992 non-null  uint8  \n",
      " 43  feedback_Poor Customer Service                  36992 non-null  uint8  \n",
      " 44  feedback_Poor Product Quality                   36992 non-null  uint8  \n",
      " 45  feedback_Poor Website                           36992 non-null  uint8  \n",
      " 46  feedback_Products always in Stock               36992 non-null  uint8  \n",
      " 47  feedback_Quality Customer Care                  36992 non-null  uint8  \n",
      " 48  feedback_Reasonable Price                       36992 non-null  uint8  \n",
      " 49  feedback_Too many ads                           36992 non-null  uint8  \n",
      " 50  feedback_User Friendly Website                  36992 non-null  uint8  \n",
      "dtypes: float64(1), int64(3), uint8(47)\n",
      "memory usage: 2.8 MB\n"
     ]
    }
   ],
   "source": [
    "X.info()"
   ]
  },
  {
   "cell_type": "code",
   "execution_count": 14,
   "id": "7d94b3f2-6dd4-4ee1-8278-6153a0c8ca7d",
   "metadata": {},
   "outputs": [],
   "source": [
    "#Target\n",
    "y = dummy_df['Churn_Category']"
   ]
  },
  {
   "cell_type": "code",
   "execution_count": 15,
   "id": "c3966243-3825-4658-910d-a94722db6ba3",
   "metadata": {},
   "outputs": [
    {
     "name": "stdout",
     "output_type": "stream",
     "text": [
      "<class 'pandas.core.series.Series'>\n",
      "RangeIndex: 36992 entries, 0 to 36991\n",
      "Series name: Churn_Category\n",
      "Non-Null Count  Dtype  \n",
      "--------------  -----  \n",
      "36992 non-null  float64\n",
      "dtypes: float64(1)\n",
      "memory usage: 289.1 KB\n"
     ]
    }
   ],
   "source": [
    "y.info()"
   ]
  },
  {
   "cell_type": "code",
   "execution_count": 16,
   "id": "7141916f-1ce5-4027-9b00-12a4c8105c8a",
   "metadata": {},
   "outputs": [],
   "source": [
    "X_train, X_test, y_train, y_test = train_test_split(X, y,test_size=0.25, random_state=0)"
   ]
  },
  {
   "cell_type": "markdown",
   "id": "6b58ef87-f1ab-48e7-be74-f4a23872ca4a",
   "metadata": {},
   "source": [
    "### Modeling "
   ]
  },
  {
   "cell_type": "code",
   "execution_count": 17,
   "id": "9f1693ba-3f33-4341-9ba4-a959a65630bf",
   "metadata": {},
   "outputs": [],
   "source": [
    "#Logistic Regression \n",
    "#Bayes\n",
    "#Decision Tree\n",
    "#RandomForestClassifier\n",
    "#SVM (This needs standardization?)\n",
    "\n",
    "from sklearn.linear_model import LogisticRegression\n",
    "from sklearn.naive_bayes import GaussianNB\n",
    "from sklearn.tree import DecisionTreeClassifier\n",
    "from sklearn.ensemble import RandomForestClassifier\n",
    "#from sklearn.preprocessing import StandardScaler\n",
    "from sklearn.svm import SVC"
   ]
  },
  {
   "cell_type": "code",
   "execution_count": 18,
   "id": "38938309-f14d-4075-956d-ed5e7daae116",
   "metadata": {},
   "outputs": [],
   "source": [
    "#NO pipeline (Do it manually) "
   ]
  },
  {
   "cell_type": "code",
   "execution_count": 19,
   "id": "086dab67-05d4-461f-90df-039c28117d02",
   "metadata": {},
   "outputs": [
    {
     "name": "stdout",
     "output_type": "stream",
     "text": [
      "Accuracy of logistic regression classifier on test set: 0.95\n"
     ]
    },
    {
     "name": "stderr",
     "output_type": "stream",
     "text": [
      "/opt/anaconda3/lib/python3.9/site-packages/sklearn/linear_model/_logistic.py:444: ConvergenceWarning: lbfgs failed to converge (status=1):\n",
      "STOP: TOTAL NO. of ITERATIONS REACHED LIMIT.\n",
      "\n",
      "Increase the number of iterations (max_iter) or scale the data as shown in:\n",
      "    https://scikit-learn.org/stable/modules/preprocessing.html\n",
      "Please also refer to the documentation for alternative solver options:\n",
      "    https://scikit-learn.org/stable/modules/linear_model.html#logistic-regression\n",
      "  n_iter_i = _check_optimize_result(\n"
     ]
    }
   ],
   "source": [
    "log_reg = LogisticRegression()\n",
    "log_reg.fit(X_train, y_train)\n",
    "y_pred = log_reg.predict(X_test)\n",
    "print('Accuracy of logistic regression classifier on test set: {:.2f}'.format(log_reg.score(X_test, y_test))) \n"
   ]
  },
  {
   "cell_type": "code",
   "execution_count": 20,
   "id": "69b3975f-97f2-4dc0-a0fd-db6c91f38599",
   "metadata": {},
   "outputs": [],
   "source": [
    "import matplotlib.pyplot as plt \n",
    "import seaborn as sns \n",
    "from sklearn import metrics"
   ]
  },
  {
   "cell_type": "code",
   "execution_count": 21,
   "id": "b320f3c4-3ed8-45d9-aba3-707b8a23ac57",
   "metadata": {},
   "outputs": [
    {
     "data": {
      "image/png": "[encoded data removed]",
      "text/plain": [
       "<Figure size 432x288 with 2 Axes>"
      ]
     },
     "metadata": {
      "needs_background": "light"
     },
     "output_type": "display_data"
    }
   ],
   "source": [
    "cm_lg = metrics.confusion_matrix(y_test, y_pred)\n",
    "cm_plot = sns.heatmap(cm_lg, annot=True)"
   ]
  },
  {
   "cell_type": "code",
   "execution_count": 22,
   "id": "c2302127-a4eb-4359-9d0d-5eb76e0be166",
   "metadata": {},
   "outputs": [
    {
     "name": "stdout",
     "output_type": "stream",
     "text": [
      "              precision    recall  f1-score   support\n",
      "\n",
      "         0.0       0.00      0.00      0.00       494\n",
      "         1.0       0.95      1.00      0.97      8754\n",
      "\n",
      "    accuracy                           0.95      9248\n",
      "   macro avg       0.47      0.50      0.49      9248\n",
      "weighted avg       0.90      0.95      0.92      9248\n",
      "\n"
     ]
    },
    {
     "name": "stderr",
     "output_type": "stream",
     "text": [
      "/opt/anaconda3/lib/python3.9/site-packages/sklearn/metrics/_classification.py:1334: UndefinedMetricWarning: Precision and F-score are ill-defined and being set to 0.0 in labels with no predicted samples. Use `zero_division` parameter to control this behavior.\n",
      "  _warn_prf(average, modifier, msg_start, len(result))\n",
      "/opt/anaconda3/lib/python3.9/site-packages/sklearn/metrics/_classification.py:1334: UndefinedMetricWarning: Precision and F-score are ill-defined and being set to 0.0 in labels with no predicted samples. Use `zero_division` parameter to control this behavior.\n",
      "  _warn_prf(average, modifier, msg_start, len(result))\n",
      "/opt/anaconda3/lib/python3.9/site-packages/sklearn/metrics/_classification.py:1334: UndefinedMetricWarning: Precision and F-score are ill-defined and being set to 0.0 in labels with no predicted samples. Use `zero_division` parameter to control this behavior.\n",
      "  _warn_prf(average, modifier, msg_start, len(result))\n"
     ]
    }
   ],
   "source": [
    "from sklearn.metrics import classification_report\n",
    "print(classification_report(y_test, y_pred))"
   ]
  },
  {
   "cell_type": "code",
   "execution_count": 23,
   "id": "8b0e9244-869e-4371-97bd-5d2c8077dbfe",
   "metadata": {},
   "outputs": [
    {
     "name": "stdout",
     "output_type": "stream",
     "text": [
      "Naive Bayes score:  0.946583044982699\n"
     ]
    }
   ],
   "source": [
    "#GaussianNB (Naive Bayes)\n",
    "nb = GaussianNB()\n",
    "nb.fit(X_train,y_train)\n",
    "print(\"Naive Bayes score: \",nb.score(X_test, y_test))"
   ]
  },
  {
   "cell_type": "code",
   "execution_count": 23,
   "id": "66d016bf-2726-49fc-9bb8-50b67bdd1b21",
   "metadata": {},
   "outputs": [
    {
     "name": "stdout",
     "output_type": "stream",
     "text": [
      "Decision Tree score:  0.8771626297577855\n"
     ]
    }
   ],
   "source": [
    "#DecisionTreeClassifier\n",
    "DTC = DecisionTreeClassifier()\n",
    "DTC.fit(X_train,y_train)\n",
    "print(\"Decision Tree score: \",DTC.score(X_test, y_test))"
   ]
  },
  {
   "cell_type": "code",
   "execution_count": 32,
   "id": "3c48bf69-1671-40cc-a0bd-b9d6bd8e30a1",
   "metadata": {},
   "outputs": [
    {
     "name": "stdout",
     "output_type": "stream",
     "text": [
      "Random Forest Classifier accuracy score:  0.9449610726643599\n"
     ]
    }
   ],
   "source": [
    "#RandomForestClassifier\n",
    "RF = RandomForestClassifier(n_estimators=1000, max_depth=10,class_weight=\"balanced\")\n",
    "RF.fit(X_train,y_train)\n",
    "y_rf_pred = RF.predict(X_test)\n",
    "print(\"Random Forest Classifier accuracy score: \",RF.score(X_test, y_test))"
   ]
  },
  {
   "cell_type": "code",
   "execution_count": 33,
   "id": "1ad4c3ac-9c05-4f3e-8df9-03950af38c9a",
   "metadata": {},
   "outputs": [
    {
     "data": {
      "text/plain": [
       "1.0    9231\n",
       "0.0      17\n",
       "dtype: int64"
      ]
     },
     "execution_count": 33,
     "metadata": {},
     "output_type": "execute_result"
    }
   ],
   "source": [
    "pd.DataFrame(y_rf_pred).value_counts()"
   ]
  },
  {
   "cell_type": "code",
   "execution_count": 34,
   "id": "72bbd7b5-a689-42a1-bfe3-e72a23ca0f23",
   "metadata": {},
   "outputs": [
    {
     "name": "stdout",
     "output_type": "stream",
     "text": [
      "              precision    recall  f1-score   support\n",
      "\n",
      "         0.0       0.06      0.00      0.00       494\n",
      "         1.0       0.95      1.00      0.97      8754\n",
      "\n",
      "    accuracy                           0.94      9248\n",
      "   macro avg       0.50      0.50      0.49      9248\n",
      "weighted avg       0.90      0.94      0.92      9248\n",
      "\n"
     ]
    }
   ],
   "source": [
    "from sklearn.metrics import classification_report\n",
    "print(classification_report(y_test, y_rf_pred))"
   ]
  },
  {
   "cell_type": "code",
   "execution_count": 36,
   "id": "d91274f4-ae30-41d7-a701-5316773e47cb",
   "metadata": {},
   "outputs": [
    {
     "ename": "TypeError",
     "evalue": "predict() missing 1 required positional argument: 'X'",
     "output_type": "error",
     "traceback": [
      "\u001b[0;31m---------------------------------------------------------------------------\u001b[0m",
      "\u001b[0;31mTypeError\u001b[0m                                 Traceback (most recent call last)",
      "Input \u001b[0;32mIn [36]\u001b[0m, in \u001b[0;36m<cell line: 4>\u001b[0;34m()\u001b[0m\n\u001b[1;32m      2\u001b[0m SV \u001b[38;5;241m=\u001b[39m SVC()\n\u001b[1;32m      3\u001b[0m SV\u001b[38;5;241m.\u001b[39mfit(X_train,y_train)\n\u001b[0;32m----> 4\u001b[0m y_SVC_pred \u001b[38;5;241m=\u001b[39m \u001b[43mSVC\u001b[49m\u001b[38;5;241;43m.\u001b[39;49m\u001b[43mpredict\u001b[49m\u001b[43m(\u001b[49m\u001b[43mX_test\u001b[49m\u001b[43m)\u001b[49m\n\u001b[1;32m      5\u001b[0m \u001b[38;5;28mprint\u001b[39m(\u001b[38;5;124m\"\u001b[39m\u001b[38;5;124mSupport Vector Classifier accuracy score: \u001b[39m\u001b[38;5;124m\"\u001b[39m,SV\u001b[38;5;241m.\u001b[39mscore(X_test, y_test))\n",
      "\u001b[0;31mTypeError\u001b[0m: predict() missing 1 required positional argument: 'X'"
     ]
    }
   ],
   "source": [
    "#SVC\n",
    "SV = SVC()\n",
    "SV.fit(X_train,y_train)\n",
    "y_SVC_pred = SVC.predict(X_test)\n",
    "print(\"Support Vector Classifier accuracy score: \",SV.score(X_test, y_test))"
   ]
  },
  {
   "cell_type": "code",
   "execution_count": 26,
   "id": "3278548c-e4b5-4d4c-9c29-8b3187a96614",
   "metadata": {},
   "outputs": [],
   "source": []
  }
 ],
 "metadata": {
  "kernelspec": {
   "display_name": "Python 3 (ipykernel)",
   "language": "python",
   "name": "python3"
  },
  "language_info": {
   "codemirror_mode": {
    "name": "ipython",
    "version": 3
   },
   "file_extension": ".py",
   "mimetype": "text/x-python",
   "name": "python",
   "nbconvert_exporter": "python",
   "pygments_lexer": "ipython3",
   "version": "3.9.12"
  }
 },
 "nbformat": 4,
 "nbformat_minor": 5
}
