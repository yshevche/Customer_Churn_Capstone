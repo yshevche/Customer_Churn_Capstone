{
 "cells": [
  {
   "cell_type": "markdown",
   "id": "0cb2455d-f7a1-4173-b777-9be80098f325",
   "metadata": {},
   "source": [
    "### Yevheniya Shevchenko - Capstone 3 Documentation"
   ]
  },
  {
   "cell_type": "markdown",
   "id": "062737dc-86b7-4153-a925-490626b8d43c",
   "metadata": {},
   "source": [
    "### <u>Problem Identification</u>"
   ]
  },
  {
   "cell_type": "markdown",
   "id": "f9f70453-ad98-488e-9b80-c27f443c0120",
   "metadata": {},
   "source": [
    "As a business owner it is much easier to keep existing customers, then it is to find new ones. Focusing on keeping these relationships requires keeping a low customer churn rate. In this dataset customer churn is a marketing metric that describes the number of customers that leave a business over a specific period of time. Each user is assigned a prediction value that estimates their state of churn based on user demographic information, browsing behavior, and historical purchase data among other features. "
   ]
  },
  {
   "cell_type": "markdown",
   "id": "fbf807d8-02ea-4d34-be4a-8f311a74415a",
   "metadata": {},
   "source": [
    "### <u>Data Wrangling</u>"
   ]
  },
  {
   "cell_type": "markdown",
   "id": "33e7072e-cf6a-419b-8092-781ae2debdbc",
   "metadata": {},
   "source": [
    "The data was loaded from a single csv file. Three columns had missing values and were filled with either 'Unknown' or 0 for the column with the points in wallet. A couple of columns had question marks as values that were replaced with the term 'Unknown' as well. The column churn_risk_score was defined with (EXIT=1) or (NOT=0). "
   ]
  },
  {
   "cell_type": "markdown",
   "id": "b81ca054-19fd-43ac-9135-aec1347a0099",
   "metadata": {},
   "source": [
    "### <u>Exploratory Data Analysis</u>"
   ]
  },
  {
   "cell_type": "markdown",
   "id": "5b10f4be-49d8-4e19-9343-e8ed64ad70da",
   "metadata": {},
   "source": [
    "Looking at a correlation analysis of certain cateogrical columns in relation to the risk of churn. Membership category gave way to how likely a person was to have an EXIT score. A majority of customers where located in towns so that is a possible area of interest for the business to look into for marketing. The overall complaints had similar churn risk scores for individuals who fialed a complaint and for those that did not. "
   ]
  },
  {
   "cell_type": "markdown",
   "id": "6238ffdb-8676-4253-86b3-6c001915f95c",
   "metadata": {},
   "source": [
    "<img src=\"Screen Shot 2023-01-11 at 1.27.07 PM.png\" width=\"400px\"/>"
   ]
  },
  {
   "cell_type": "markdown",
   "id": "49cc56dd-b532-46ac-8894-2386cdb14ba2",
   "metadata": {},
   "source": [
    "<img src=\"Screen Shot 2023-01-11 at 1.26.53 PM.png\" width=\"400px\"/>"
   ]
  },
  {
   "cell_type": "markdown",
   "id": "2939c4b2-3008-4c39-babe-863ac00c6aac",
   "metadata": {},
   "source": [
    "<img src=\"Screen Shot 2023-01-11 at 1.27.20 PM.png\" width=\"400px\"/>"
   ]
  },
  {
   "cell_type": "markdown",
   "id": "38a3f071-091c-490b-a0c6-d5ca5da98ccc",
   "metadata": {},
   "source": [
    "### <u>Preprocessing</u>"
   ]
  },
  {
   "cell_type": "markdown",
   "id": "9052d7bd-049e-48c1-b4d7-2bb15ed06024",
   "metadata": {},
   "source": [
    "Certain transformations were performed to label encode the reference IDs since they repeated a few times. All other categorical columns where one hot encoded to create less bias in the modeling steps ahead. For the train/test split 25% of the data was used for the test,leaving about 75% for training. The target variable I selected was the churn_risk_score provided in the data. The feature variables were all the columns that had been encoded or provided numerical values."
   ]
  },
  {
   "cell_type": "markdown",
   "id": "d5c6c21d-7569-46f7-b242-65245a90ac70",
   "metadata": {},
   "source": [
    "### <u>Modeling</u>"
   ]
  },
  {
   "cell_type": "markdown",
   "id": "7dcf8806-6404-4166-8dfe-590c9659b3fb",
   "metadata": {},
   "source": [
    "The data we are working with is mostly categorical so classification models where the best options. The harmonic mean  for the likelyhood of a customer leaving was accurately predicted at a higher rate by both weighted random forest classifier (RFC) and decision tree (DTC). Below are features of interest from the two models, all though they do hold some interest they only give us a guess about what the models used for predicting the outcome. A more reliable source are the classification reports where we can see precision and recall. The precision score or the rate at prediction for the true positive of the exiting customers were about 92% for both. While the individuals most likely to stay were around 94% predicted by random forest classifier and 90% for decision tree classifier. The recall score measures how many positive cases the classifier predicted. For predicting that a customer stayed RFC & DTC were around 91%. For the prediction of a customers risk of churn RFC did a better job at around 95% and DTC was the same at around 91%. "
   ]
  },
  {
   "cell_type": "markdown",
   "id": "fef73414-523c-4ac9-863e-32f6c5696154",
   "metadata": {},
   "source": [
    "<img src=\"Screen Shot 2023-01-11 at 4.27.08 PM.png\" width=\"500px\"/>"
   ]
  },
  {
   "cell_type": "markdown",
   "id": "3c2a0fcd-2a5c-4e8a-be6d-39149bd7a7db",
   "metadata": {},
   "source": [
    "<img src=\"Screen Shot 2023-01-11 at 4.27.18 PM.png\" width=\"500px\"/>"
   ]
  },
  {
   "cell_type": "markdown",
   "id": "b6ce4e78-094d-4f18-94b0-12f384d7a131",
   "metadata": {},
   "source": [
    "### <u>Recommendations</u> "
   ]
  },
  {
   "cell_type": "markdown",
   "id": "f3545bb0-cbb6-49ea-8e3d-22f3249e3157",
   "metadata": {},
   "source": [
    "Some business related recommendations for the marketing team to solve the problem of customer attrition. The best course of action is to try and keep customers rather then attract new ones. Similar to a leaking bucket, you can't fill a bucket with water if there's a hole at the bottom. Based on the performed analysis an area of interest may be advertising based on customer location. Most customers lived in towns with a close second being individuals living in cities. Membership status is also important with a majority of individuals at risk of churning either had no membership or basic membership status. A key factor was complaint status in the prediction of the model performance, with a majority of customers who had unsolved complaints. I recommend the team address how responsive they are to customer needs."
   ]
  },
  {
   "cell_type": "markdown",
   "id": "9c2bcb24-f10d-446a-b8c1-ae2458710e10",
   "metadata": {},
   "source": [
    "### <u>Future Direction</u>"
   ]
  },
  {
   "cell_type": "markdown",
   "id": "1abdeb36-3a42-4bd5-8f9c-e88a3fa512d2",
   "metadata": {},
   "source": [
    "The model is useful for sensitvity of selecting the risk of a customer exiting. But feature engineering could help guide and improve our understanding of where in the business more focus could be applied to keep customers interested in the products and improve overall retention. "
   ]
  }
 ],
 "metadata": {
  "kernelspec": {
   "display_name": "Python 3 (ipykernel)",
   "language": "python",
   "name": "python3"
  },
  "language_info": {
   "codemirror_mode": {
    "name": "ipython",
    "version": 3
   },
   "file_extension": ".py",
   "mimetype": "text/x-python",
   "name": "python",
   "nbconvert_exporter": "python",
   "pygments_lexer": "ipython3",
   "version": "3.9.12"
  }
 },
 "nbformat": 4,
 "nbformat_minor": 5
}
