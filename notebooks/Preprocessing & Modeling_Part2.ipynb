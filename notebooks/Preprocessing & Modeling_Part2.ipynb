{
 "cells": [
  {
   "cell_type": "markdown",
   "id": "421382c8-4cfd-4d0f-a6da-092cb5491963",
   "metadata": {},
   "source": [
    "## Modeling Part 2"
   ]
  },
  {
   "cell_type": "markdown",
   "id": "e467d88d-8aad-4c7b-9495-445cf90133f6",
   "metadata": {},
   "source": [
    "Using the provided Risk of Customer Churn column for Modeling"
   ]
  },
  {
   "cell_type": "code",
   "execution_count": 1,
   "id": "301965ec-9f4d-4181-a613-fe8775269e36",
   "metadata": {},
   "outputs": [],
   "source": [
    "import pandas as pd\n",
    "import numpy as np"
   ]
  },
  {
   "cell_type": "code",
   "execution_count": 2,
   "id": "39465bfa-55ec-441c-9bff-41a3facb9dc2",
   "metadata": {},
   "outputs": [],
   "source": [
    "df = pd.read_csv('EDA_Customer_Churn.csv')"
   ]
  },
  {
   "cell_type": "code",
   "execution_count": 3,
   "id": "dedef4b5-ae15-44d1-a86f-4016dac6a9a2",
   "metadata": {},
   "outputs": [
    {
     "data": {
      "text/html": [
       "<div>\n",
       "<style scoped>\n",
       "    .dataframe tbody tr th:only-of-type {\n",
       "        vertical-align: middle;\n",
       "    }\n",
       "\n",
       "    .dataframe tbody tr th {\n",
       "        vertical-align: top;\n",
       "    }\n",
       "\n",
       "    .dataframe thead th {\n",
       "        text-align: right;\n",
       "    }\n",
       "</style>\n",
       "<table border=\"1\" class=\"dataframe\">\n",
       "  <thead>\n",
       "    <tr style=\"text-align: right;\">\n",
       "      <th></th>\n",
       "      <th>age</th>\n",
       "      <th>gender</th>\n",
       "      <th>security_no</th>\n",
       "      <th>region_category</th>\n",
       "      <th>membership_category</th>\n",
       "      <th>joining_date</th>\n",
       "      <th>joined_through_referral</th>\n",
       "      <th>referral_id</th>\n",
       "      <th>preferred_offer_types</th>\n",
       "      <th>medium_of_operation</th>\n",
       "      <th>internet_option</th>\n",
       "      <th>days_since_last_login</th>\n",
       "      <th>points_in_wallet</th>\n",
       "      <th>used_special_discount</th>\n",
       "      <th>offer_application_preference</th>\n",
       "      <th>past_complaint</th>\n",
       "      <th>complaint_status</th>\n",
       "      <th>feedback</th>\n",
       "      <th>Churn_Category</th>\n",
       "      <th>last_visit_hour</th>\n",
       "    </tr>\n",
       "  </thead>\n",
       "  <tbody>\n",
       "    <tr>\n",
       "      <th>0</th>\n",
       "      <td>18</td>\n",
       "      <td>F</td>\n",
       "      <td>XW0DQ7H</td>\n",
       "      <td>Village</td>\n",
       "      <td>Platinum Membership</td>\n",
       "      <td>2017-08-17</td>\n",
       "      <td>No</td>\n",
       "      <td>xxxxxxxx</td>\n",
       "      <td>Gift Vouchers/Coupons</td>\n",
       "      <td>Unknown</td>\n",
       "      <td>Wi-Fi</td>\n",
       "      <td>17</td>\n",
       "      <td>781.75</td>\n",
       "      <td>Yes</td>\n",
       "      <td>Yes</td>\n",
       "      <td>No</td>\n",
       "      <td>Not Applicable</td>\n",
       "      <td>Products always in Stock</td>\n",
       "      <td>1.0</td>\n",
       "      <td>16</td>\n",
       "    </tr>\n",
       "    <tr>\n",
       "      <th>1</th>\n",
       "      <td>32</td>\n",
       "      <td>F</td>\n",
       "      <td>5K0N3X1</td>\n",
       "      <td>City</td>\n",
       "      <td>Premium Membership</td>\n",
       "      <td>2017-08-28</td>\n",
       "      <td>Unknown</td>\n",
       "      <td>CID21329</td>\n",
       "      <td>Gift Vouchers/Coupons</td>\n",
       "      <td>Desktop</td>\n",
       "      <td>Mobile_Data</td>\n",
       "      <td>16</td>\n",
       "      <td>0.00</td>\n",
       "      <td>Yes</td>\n",
       "      <td>No</td>\n",
       "      <td>Yes</td>\n",
       "      <td>Solved</td>\n",
       "      <td>Quality Customer Care</td>\n",
       "      <td>1.0</td>\n",
       "      <td>12</td>\n",
       "    </tr>\n",
       "    <tr>\n",
       "      <th>2</th>\n",
       "      <td>44</td>\n",
       "      <td>F</td>\n",
       "      <td>1F2TCL3</td>\n",
       "      <td>Town</td>\n",
       "      <td>No Membership</td>\n",
       "      <td>2016-11-11</td>\n",
       "      <td>Yes</td>\n",
       "      <td>CID12313</td>\n",
       "      <td>Gift Vouchers/Coupons</td>\n",
       "      <td>Desktop</td>\n",
       "      <td>Wi-Fi</td>\n",
       "      <td>14</td>\n",
       "      <td>500.69</td>\n",
       "      <td>No</td>\n",
       "      <td>Yes</td>\n",
       "      <td>Yes</td>\n",
       "      <td>Solved in Follow-up</td>\n",
       "      <td>Poor Website</td>\n",
       "      <td>1.0</td>\n",
       "      <td>22</td>\n",
       "    </tr>\n",
       "    <tr>\n",
       "      <th>3</th>\n",
       "      <td>37</td>\n",
       "      <td>M</td>\n",
       "      <td>VJGJ33N</td>\n",
       "      <td>City</td>\n",
       "      <td>No Membership</td>\n",
       "      <td>2016-10-29</td>\n",
       "      <td>Yes</td>\n",
       "      <td>CID3793</td>\n",
       "      <td>Gift Vouchers/Coupons</td>\n",
       "      <td>Desktop</td>\n",
       "      <td>Mobile_Data</td>\n",
       "      <td>11</td>\n",
       "      <td>567.66</td>\n",
       "      <td>No</td>\n",
       "      <td>Yes</td>\n",
       "      <td>Yes</td>\n",
       "      <td>Unsolved</td>\n",
       "      <td>Poor Website</td>\n",
       "      <td>1.0</td>\n",
       "      <td>15</td>\n",
       "    </tr>\n",
       "    <tr>\n",
       "      <th>4</th>\n",
       "      <td>31</td>\n",
       "      <td>F</td>\n",
       "      <td>SVZXCWB</td>\n",
       "      <td>City</td>\n",
       "      <td>No Membership</td>\n",
       "      <td>2017-09-12</td>\n",
       "      <td>No</td>\n",
       "      <td>xxxxxxxx</td>\n",
       "      <td>Credit/Debit Card Offers</td>\n",
       "      <td>Smartphone</td>\n",
       "      <td>Mobile_Data</td>\n",
       "      <td>20</td>\n",
       "      <td>663.06</td>\n",
       "      <td>No</td>\n",
       "      <td>Yes</td>\n",
       "      <td>Yes</td>\n",
       "      <td>Solved</td>\n",
       "      <td>Poor Website</td>\n",
       "      <td>1.0</td>\n",
       "      <td>15</td>\n",
       "    </tr>\n",
       "    <tr>\n",
       "      <th>5</th>\n",
       "      <td>13</td>\n",
       "      <td>M</td>\n",
       "      <td>PSG1LGF</td>\n",
       "      <td>City</td>\n",
       "      <td>Gold Membership</td>\n",
       "      <td>2016-01-08</td>\n",
       "      <td>No</td>\n",
       "      <td>xxxxxxxx</td>\n",
       "      <td>Gift Vouchers/Coupons</td>\n",
       "      <td>Unknown</td>\n",
       "      <td>Wi-Fi</td>\n",
       "      <td>23</td>\n",
       "      <td>722.27</td>\n",
       "      <td>Yes</td>\n",
       "      <td>No</td>\n",
       "      <td>Yes</td>\n",
       "      <td>Unsolved</td>\n",
       "      <td>No reason specified</td>\n",
       "      <td>1.0</td>\n",
       "      <td>6</td>\n",
       "    </tr>\n",
       "    <tr>\n",
       "      <th>6</th>\n",
       "      <td>21</td>\n",
       "      <td>M</td>\n",
       "      <td>R3CX1EA</td>\n",
       "      <td>Town</td>\n",
       "      <td>Gold Membership</td>\n",
       "      <td>2015-03-19</td>\n",
       "      <td>Yes</td>\n",
       "      <td>CID24708</td>\n",
       "      <td>Gift Vouchers/Coupons</td>\n",
       "      <td>Desktop</td>\n",
       "      <td>Mobile_Data</td>\n",
       "      <td>10</td>\n",
       "      <td>756.21</td>\n",
       "      <td>Yes</td>\n",
       "      <td>No</td>\n",
       "      <td>Yes</td>\n",
       "      <td>Solved in Follow-up</td>\n",
       "      <td>No reason specified</td>\n",
       "      <td>1.0</td>\n",
       "      <td>11</td>\n",
       "    </tr>\n",
       "    <tr>\n",
       "      <th>7</th>\n",
       "      <td>42</td>\n",
       "      <td>M</td>\n",
       "      <td>4UJ1551</td>\n",
       "      <td>Unknown</td>\n",
       "      <td>No Membership</td>\n",
       "      <td>2016-07-12</td>\n",
       "      <td>Unknown</td>\n",
       "      <td>CID56614</td>\n",
       "      <td>Credit/Debit Card Offers</td>\n",
       "      <td>Both</td>\n",
       "      <td>Fiber_Optic</td>\n",
       "      <td>19</td>\n",
       "      <td>568.08</td>\n",
       "      <td>No</td>\n",
       "      <td>Yes</td>\n",
       "      <td>Yes</td>\n",
       "      <td>Unsolved</td>\n",
       "      <td>Poor Product Quality</td>\n",
       "      <td>1.0</td>\n",
       "      <td>7</td>\n",
       "    </tr>\n",
       "    <tr>\n",
       "      <th>8</th>\n",
       "      <td>44</td>\n",
       "      <td>M</td>\n",
       "      <td>0481QNQ</td>\n",
       "      <td>Village</td>\n",
       "      <td>Silver Membership</td>\n",
       "      <td>2016-12-14</td>\n",
       "      <td>No</td>\n",
       "      <td>xxxxxxxx</td>\n",
       "      <td>Without Offers</td>\n",
       "      <td>Smartphone</td>\n",
       "      <td>Fiber_Optic</td>\n",
       "      <td>15</td>\n",
       "      <td>0.00</td>\n",
       "      <td>Yes</td>\n",
       "      <td>No</td>\n",
       "      <td>Yes</td>\n",
       "      <td>Solved in Follow-up</td>\n",
       "      <td>Poor Customer Service</td>\n",
       "      <td>1.0</td>\n",
       "      <td>6</td>\n",
       "    </tr>\n",
       "    <tr>\n",
       "      <th>9</th>\n",
       "      <td>45</td>\n",
       "      <td>F</td>\n",
       "      <td>ZHP4MCR</td>\n",
       "      <td>Town</td>\n",
       "      <td>No Membership</td>\n",
       "      <td>2016-11-30</td>\n",
       "      <td>No</td>\n",
       "      <td>xxxxxxxx</td>\n",
       "      <td>Gift Vouchers/Coupons</td>\n",
       "      <td>Unknown</td>\n",
       "      <td>Wi-Fi</td>\n",
       "      <td>10</td>\n",
       "      <td>706.23</td>\n",
       "      <td>No</td>\n",
       "      <td>Yes</td>\n",
       "      <td>Yes</td>\n",
       "      <td>No Information Available</td>\n",
       "      <td>Poor Customer Service</td>\n",
       "      <td>1.0</td>\n",
       "      <td>19</td>\n",
       "    </tr>\n",
       "  </tbody>\n",
       "</table>\n",
       "</div>"
      ],
      "text/plain": [
       "   age gender security_no region_category  membership_category joining_date  \\\n",
       "0   18      F     XW0DQ7H         Village  Platinum Membership   2017-08-17   \n",
       "1   32      F     5K0N3X1            City   Premium Membership   2017-08-28   \n",
       "2   44      F     1F2TCL3            Town        No Membership   2016-11-11   \n",
       "3   37      M     VJGJ33N            City        No Membership   2016-10-29   \n",
       "4   31      F     SVZXCWB            City        No Membership   2017-09-12   \n",
       "5   13      M     PSG1LGF            City      Gold Membership   2016-01-08   \n",
       "6   21      M     R3CX1EA            Town      Gold Membership   2015-03-19   \n",
       "7   42      M     4UJ1551         Unknown        No Membership   2016-07-12   \n",
       "8   44      M     0481QNQ         Village    Silver Membership   2016-12-14   \n",
       "9   45      F     ZHP4MCR            Town        No Membership   2016-11-30   \n",
       "\n",
       "  joined_through_referral referral_id     preferred_offer_types  \\\n",
       "0                      No    xxxxxxxx     Gift Vouchers/Coupons   \n",
       "1                 Unknown    CID21329     Gift Vouchers/Coupons   \n",
       "2                     Yes    CID12313     Gift Vouchers/Coupons   \n",
       "3                     Yes     CID3793     Gift Vouchers/Coupons   \n",
       "4                      No    xxxxxxxx  Credit/Debit Card Offers   \n",
       "5                      No    xxxxxxxx     Gift Vouchers/Coupons   \n",
       "6                     Yes    CID24708     Gift Vouchers/Coupons   \n",
       "7                 Unknown    CID56614  Credit/Debit Card Offers   \n",
       "8                      No    xxxxxxxx            Without Offers   \n",
       "9                      No    xxxxxxxx     Gift Vouchers/Coupons   \n",
       "\n",
       "  medium_of_operation internet_option  days_since_last_login  \\\n",
       "0             Unknown           Wi-Fi                     17   \n",
       "1             Desktop     Mobile_Data                     16   \n",
       "2             Desktop           Wi-Fi                     14   \n",
       "3             Desktop     Mobile_Data                     11   \n",
       "4          Smartphone     Mobile_Data                     20   \n",
       "5             Unknown           Wi-Fi                     23   \n",
       "6             Desktop     Mobile_Data                     10   \n",
       "7                Both     Fiber_Optic                     19   \n",
       "8          Smartphone     Fiber_Optic                     15   \n",
       "9             Unknown           Wi-Fi                     10   \n",
       "\n",
       "   points_in_wallet used_special_discount offer_application_preference  \\\n",
       "0            781.75                   Yes                          Yes   \n",
       "1              0.00                   Yes                           No   \n",
       "2            500.69                    No                          Yes   \n",
       "3            567.66                    No                          Yes   \n",
       "4            663.06                    No                          Yes   \n",
       "5            722.27                   Yes                           No   \n",
       "6            756.21                   Yes                           No   \n",
       "7            568.08                    No                          Yes   \n",
       "8              0.00                   Yes                           No   \n",
       "9            706.23                    No                          Yes   \n",
       "\n",
       "  past_complaint          complaint_status                  feedback  \\\n",
       "0             No            Not Applicable  Products always in Stock   \n",
       "1            Yes                    Solved     Quality Customer Care   \n",
       "2            Yes       Solved in Follow-up              Poor Website   \n",
       "3            Yes                  Unsolved              Poor Website   \n",
       "4            Yes                    Solved              Poor Website   \n",
       "5            Yes                  Unsolved       No reason specified   \n",
       "6            Yes       Solved in Follow-up       No reason specified   \n",
       "7            Yes                  Unsolved      Poor Product Quality   \n",
       "8            Yes       Solved in Follow-up     Poor Customer Service   \n",
       "9            Yes  No Information Available     Poor Customer Service   \n",
       "\n",
       "   Churn_Category  last_visit_hour  \n",
       "0             1.0               16  \n",
       "1             1.0               12  \n",
       "2             1.0               22  \n",
       "3             1.0               15  \n",
       "4             1.0               15  \n",
       "5             1.0                6  \n",
       "6             1.0               11  \n",
       "7             1.0                7  \n",
       "8             1.0                6  \n",
       "9             1.0               19  "
      ]
     },
     "execution_count": 3,
     "metadata": {},
     "output_type": "execute_result"
    }
   ],
   "source": [
    "df.head(10)"
   ]
  },
  {
   "cell_type": "code",
   "execution_count": 4,
   "id": "7efdb383-8472-47dd-8d89-5905eb3cfe96",
   "metadata": {},
   "outputs": [
    {
     "name": "stdout",
     "output_type": "stream",
     "text": [
      "<class 'pandas.core.frame.DataFrame'>\n",
      "RangeIndex: 36992 entries, 0 to 36991\n",
      "Data columns (total 20 columns):\n",
      " #   Column                        Non-Null Count  Dtype  \n",
      "---  ------                        --------------  -----  \n",
      " 0   age                           36992 non-null  int64  \n",
      " 1   gender                        36992 non-null  object \n",
      " 2   security_no                   36992 non-null  object \n",
      " 3   region_category               36992 non-null  object \n",
      " 4   membership_category           36992 non-null  object \n",
      " 5   joining_date                  36992 non-null  object \n",
      " 6   joined_through_referral       36992 non-null  object \n",
      " 7   referral_id                   36992 non-null  object \n",
      " 8   preferred_offer_types         36992 non-null  object \n",
      " 9   medium_of_operation           36992 non-null  object \n",
      " 10  internet_option               36992 non-null  object \n",
      " 11  days_since_last_login         36992 non-null  int64  \n",
      " 12  points_in_wallet              36992 non-null  float64\n",
      " 13  used_special_discount         36992 non-null  object \n",
      " 14  offer_application_preference  36992 non-null  object \n",
      " 15  past_complaint                36992 non-null  object \n",
      " 16  complaint_status              36992 non-null  object \n",
      " 17  feedback                      36992 non-null  object \n",
      " 18  Churn_Category                36992 non-null  float64\n",
      " 19  last_visit_hour               36992 non-null  int64  \n",
      "dtypes: float64(2), int64(3), object(15)\n",
      "memory usage: 5.6+ MB\n"
     ]
    }
   ],
   "source": [
    "df.info()"
   ]
  },
  {
   "cell_type": "code",
   "execution_count": 5,
   "id": "d84d85dd-172f-4883-9310-06abd3cb01ad",
   "metadata": {},
   "outputs": [],
   "source": [
    "df = df.drop(columns=['Churn_Category', 'joining_date'])"
   ]
  },
  {
   "cell_type": "markdown",
   "id": "59b525fc-a222-40f2-8f56-62470ff72cc6",
   "metadata": {},
   "source": [
    "#### Loading dataframe "
   ]
  },
  {
   "cell_type": "code",
   "execution_count": 6,
   "id": "2432cadf-ab4e-45e5-b1fb-a619441bdb3f",
   "metadata": {},
   "outputs": [],
   "source": [
    "df_not_cleaned = pd.read_csv('churn.csv')"
   ]
  },
  {
   "cell_type": "code",
   "execution_count": 7,
   "id": "ec23e9cc-8efc-4c46-92e9-322c28d8f224",
   "metadata": {},
   "outputs": [
    {
     "name": "stdout",
     "output_type": "stream",
     "text": [
      "<class 'pandas.core.frame.DataFrame'>\n",
      "RangeIndex: 36992 entries, 0 to 36991\n",
      "Data columns (total 24 columns):\n",
      " #   Column                        Non-Null Count  Dtype  \n",
      "---  ------                        --------------  -----  \n",
      " 0   Unnamed: 0                    36992 non-null  int64  \n",
      " 1   age                           36992 non-null  int64  \n",
      " 2   gender                        36992 non-null  object \n",
      " 3   security_no                   36992 non-null  object \n",
      " 4   region_category               31564 non-null  object \n",
      " 5   membership_category           36992 non-null  object \n",
      " 6   joining_date                  36992 non-null  object \n",
      " 7   joined_through_referral       36992 non-null  object \n",
      " 8   referral_id                   36992 non-null  object \n",
      " 9   preferred_offer_types         36704 non-null  object \n",
      " 10  medium_of_operation           36992 non-null  object \n",
      " 11  internet_option               36992 non-null  object \n",
      " 12  last_visit_time               36992 non-null  object \n",
      " 13  days_since_last_login         36992 non-null  int64  \n",
      " 14  avg_time_spent                36992 non-null  float64\n",
      " 15  avg_transaction_value         36992 non-null  float64\n",
      " 16  avg_frequency_login_days      36992 non-null  object \n",
      " 17  points_in_wallet              33549 non-null  float64\n",
      " 18  used_special_discount         36992 non-null  object \n",
      " 19  offer_application_preference  36992 non-null  object \n",
      " 20  past_complaint                36992 non-null  object \n",
      " 21  complaint_status              36992 non-null  object \n",
      " 22  feedback                      36992 non-null  object \n",
      " 23  churn_risk_score              36992 non-null  int64  \n",
      "dtypes: float64(3), int64(4), object(17)\n",
      "memory usage: 6.8+ MB\n"
     ]
    }
   ],
   "source": [
    "df_not_cleaned.info()"
   ]
  },
  {
   "cell_type": "code",
   "execution_count": 8,
   "id": "3bc60793-69be-4ba0-ad64-15c83d6f78e3",
   "metadata": {},
   "outputs": [],
   "source": [
    "df['churn_risk_score'] = df_not_cleaned['churn_risk_score'].values"
   ]
  },
  {
   "cell_type": "code",
   "execution_count": 9,
   "id": "1a9a1acd-f40d-4229-b86c-dd58be45a427",
   "metadata": {},
   "outputs": [
    {
     "name": "stdout",
     "output_type": "stream",
     "text": [
      "<class 'pandas.core.frame.DataFrame'>\n",
      "RangeIndex: 36992 entries, 0 to 36991\n",
      "Data columns (total 19 columns):\n",
      " #   Column                        Non-Null Count  Dtype  \n",
      "---  ------                        --------------  -----  \n",
      " 0   age                           36992 non-null  int64  \n",
      " 1   gender                        36992 non-null  object \n",
      " 2   security_no                   36992 non-null  object \n",
      " 3   region_category               36992 non-null  object \n",
      " 4   membership_category           36992 non-null  object \n",
      " 5   joined_through_referral       36992 non-null  object \n",
      " 6   referral_id                   36992 non-null  object \n",
      " 7   preferred_offer_types         36992 non-null  object \n",
      " 8   medium_of_operation           36992 non-null  object \n",
      " 9   internet_option               36992 non-null  object \n",
      " 10  days_since_last_login         36992 non-null  int64  \n",
      " 11  points_in_wallet              36992 non-null  float64\n",
      " 12  used_special_discount         36992 non-null  object \n",
      " 13  offer_application_preference  36992 non-null  object \n",
      " 14  past_complaint                36992 non-null  object \n",
      " 15  complaint_status              36992 non-null  object \n",
      " 16  feedback                      36992 non-null  object \n",
      " 17  last_visit_hour               36992 non-null  int64  \n",
      " 18  churn_risk_score              36992 non-null  int64  \n",
      "dtypes: float64(1), int64(4), object(14)\n",
      "memory usage: 5.4+ MB\n"
     ]
    }
   ],
   "source": [
    "df.info()"
   ]
  },
  {
   "cell_type": "markdown",
   "id": "3fa43d3c-c30c-41e3-afcc-ce49a0ad9b7b",
   "metadata": {},
   "source": [
    "#### Some more EDA..."
   ]
  },
  {
   "cell_type": "code",
   "execution_count": 10,
   "id": "1e3e9d29-106a-4c4d-b345-210bd5ae654f",
   "metadata": {},
   "outputs": [],
   "source": [
    "# Doing some exploring\n",
    "import seaborn as sns\n",
    "import matplotlib.pyplot as plt"
   ]
  },
  {
   "cell_type": "code",
   "execution_count": 11,
   "id": "b11f3123-03f4-4e70-bfba-42e62fd413b4",
   "metadata": {},
   "outputs": [],
   "source": [
    "def CountPlot(xcolumn,xlabel,rotationangle=0):\n",
    "    ax = sns.countplot(x = xcolumn, hue = 'churn_risk_score', data= df)\n",
    "    plt.xticks(rotation=rotationangle)"
   ]
  },
  {
   "cell_type": "code",
   "execution_count": 12,
   "id": "8cc49cf8-8679-4bc7-af64-b5ff598be379",
   "metadata": {},
   "outputs": [
    {
     "data": {
      "image/png": "[encoded data removed]",
      "text/plain": [
       "<Figure size 432x288 with 1 Axes>"
      ]
     },
     "metadata": {
      "needs_background": "light"
     },
     "output_type": "display_data"
    }
   ],
   "source": [
    "CountPlot('gender', 'GENDER')"
   ]
  },
  {
   "cell_type": "code",
   "execution_count": 13,
   "id": "ccb57f89-9ae6-4c26-a281-cb490b3f1c94",
   "metadata": {},
   "outputs": [
    {
     "data": {
      "image/png": "[encoded data removed]",
      "text/plain": [
       "<Figure size 432x288 with 1 Axes>"
      ]
     },
     "metadata": {
      "needs_background": "light"
     },
     "output_type": "display_data"
    }
   ],
   "source": [
    "CountPlot('region_category','region_category')"
   ]
  },
  {
   "cell_type": "code",
   "execution_count": 14,
   "id": "f8554944-ba02-4ece-bebb-13f8c9f30818",
   "metadata": {},
   "outputs": [
    {
     "data": {
      "image/png": "[encoded data removed]",
      "text/plain": [
       "<Figure size 432x288 with 1 Axes>"
      ]
     },
     "metadata": {
      "needs_background": "light"
     },
     "output_type": "display_data"
    }
   ],
   "source": [
    "CountPlot('membership_category','membership_category',45)"
   ]
  },
  {
   "cell_type": "code",
   "execution_count": 15,
   "id": "9d5436ae-7da4-448a-be0b-524b0db316af",
   "metadata": {},
   "outputs": [
    {
     "data": {
      "image/png": "[encoded data removed]",
      "text/plain": [
       "<Figure size 432x288 with 1 Axes>"
      ]
     },
     "metadata": {
      "needs_background": "light"
     },
     "output_type": "display_data"
    }
   ],
   "source": [
    "CountPlot('past_complaint','past_complaint')"
   ]
  },
  {
   "cell_type": "code",
   "execution_count": null,
   "id": "365af920-9bee-4577-8c9e-fb84c01648b0",
   "metadata": {},
   "outputs": [],
   "source": []
  },
  {
   "cell_type": "markdown",
   "id": "c71d0ddf-fedb-4020-a336-40c5c0aeba3d",
   "metadata": {},
   "source": [
    "### Pre-processing"
   ]
  },
  {
   "cell_type": "code",
   "execution_count": 16,
   "id": "a9e5a942-19e7-4f77-b0c7-ced6b3f3c92c",
   "metadata": {},
   "outputs": [
    {
     "data": {
      "text/html": [
       "<div>\n",
       "<style scoped>\n",
       "    .dataframe tbody tr th:only-of-type {\n",
       "        vertical-align: middle;\n",
       "    }\n",
       "\n",
       "    .dataframe tbody tr th {\n",
       "        vertical-align: top;\n",
       "    }\n",
       "\n",
       "    .dataframe thead th {\n",
       "        text-align: right;\n",
       "    }\n",
       "</style>\n",
       "<table border=\"1\" class=\"dataframe\">\n",
       "  <thead>\n",
       "    <tr style=\"text-align: right;\">\n",
       "      <th></th>\n",
       "      <th>age</th>\n",
       "      <th>gender</th>\n",
       "      <th>security_no</th>\n",
       "      <th>region_category</th>\n",
       "      <th>membership_category</th>\n",
       "      <th>joined_through_referral</th>\n",
       "      <th>referral_id</th>\n",
       "      <th>preferred_offer_types</th>\n",
       "      <th>medium_of_operation</th>\n",
       "      <th>internet_option</th>\n",
       "      <th>days_since_last_login</th>\n",
       "      <th>points_in_wallet</th>\n",
       "      <th>used_special_discount</th>\n",
       "      <th>offer_application_preference</th>\n",
       "      <th>past_complaint</th>\n",
       "      <th>complaint_status</th>\n",
       "      <th>feedback</th>\n",
       "      <th>last_visit_hour</th>\n",
       "      <th>churn_risk_score</th>\n",
       "      <th>referral_id_enc</th>\n",
       "    </tr>\n",
       "  </thead>\n",
       "  <tbody>\n",
       "    <tr>\n",
       "      <th>0</th>\n",
       "      <td>18</td>\n",
       "      <td>F</td>\n",
       "      <td>XW0DQ7H</td>\n",
       "      <td>Village</td>\n",
       "      <td>Platinum Membership</td>\n",
       "      <td>No</td>\n",
       "      <td>xxxxxxxx</td>\n",
       "      <td>Gift Vouchers/Coupons</td>\n",
       "      <td>Unknown</td>\n",
       "      <td>Wi-Fi</td>\n",
       "      <td>17</td>\n",
       "      <td>781.75</td>\n",
       "      <td>Yes</td>\n",
       "      <td>Yes</td>\n",
       "      <td>No</td>\n",
       "      <td>Not Applicable</td>\n",
       "      <td>Products always in Stock</td>\n",
       "      <td>16</td>\n",
       "      <td>0</td>\n",
       "      <td>11358</td>\n",
       "    </tr>\n",
       "    <tr>\n",
       "      <th>1</th>\n",
       "      <td>32</td>\n",
       "      <td>F</td>\n",
       "      <td>5K0N3X1</td>\n",
       "      <td>City</td>\n",
       "      <td>Premium Membership</td>\n",
       "      <td>Unknown</td>\n",
       "      <td>CID21329</td>\n",
       "      <td>Gift Vouchers/Coupons</td>\n",
       "      <td>Desktop</td>\n",
       "      <td>Mobile_Data</td>\n",
       "      <td>16</td>\n",
       "      <td>0.00</td>\n",
       "      <td>Yes</td>\n",
       "      <td>No</td>\n",
       "      <td>Yes</td>\n",
       "      <td>Solved</td>\n",
       "      <td>Quality Customer Care</td>\n",
       "      <td>12</td>\n",
       "      <td>0</td>\n",
       "      <td>2225</td>\n",
       "    </tr>\n",
       "    <tr>\n",
       "      <th>2</th>\n",
       "      <td>44</td>\n",
       "      <td>F</td>\n",
       "      <td>1F2TCL3</td>\n",
       "      <td>Town</td>\n",
       "      <td>No Membership</td>\n",
       "      <td>Yes</td>\n",
       "      <td>CID12313</td>\n",
       "      <td>Gift Vouchers/Coupons</td>\n",
       "      <td>Desktop</td>\n",
       "      <td>Wi-Fi</td>\n",
       "      <td>14</td>\n",
       "      <td>500.69</td>\n",
       "      <td>No</td>\n",
       "      <td>Yes</td>\n",
       "      <td>Yes</td>\n",
       "      <td>Solved in Follow-up</td>\n",
       "      <td>Poor Website</td>\n",
       "      <td>22</td>\n",
       "      <td>1</td>\n",
       "      <td>471</td>\n",
       "    </tr>\n",
       "    <tr>\n",
       "      <th>3</th>\n",
       "      <td>37</td>\n",
       "      <td>M</td>\n",
       "      <td>VJGJ33N</td>\n",
       "      <td>City</td>\n",
       "      <td>No Membership</td>\n",
       "      <td>Yes</td>\n",
       "      <td>CID3793</td>\n",
       "      <td>Gift Vouchers/Coupons</td>\n",
       "      <td>Desktop</td>\n",
       "      <td>Mobile_Data</td>\n",
       "      <td>11</td>\n",
       "      <td>567.66</td>\n",
       "      <td>No</td>\n",
       "      <td>Yes</td>\n",
       "      <td>Yes</td>\n",
       "      <td>Unsolved</td>\n",
       "      <td>Poor Website</td>\n",
       "      <td>15</td>\n",
       "      <td>1</td>\n",
       "      <td>5506</td>\n",
       "    </tr>\n",
       "    <tr>\n",
       "      <th>4</th>\n",
       "      <td>31</td>\n",
       "      <td>F</td>\n",
       "      <td>SVZXCWB</td>\n",
       "      <td>City</td>\n",
       "      <td>No Membership</td>\n",
       "      <td>No</td>\n",
       "      <td>xxxxxxxx</td>\n",
       "      <td>Credit/Debit Card Offers</td>\n",
       "      <td>Smartphone</td>\n",
       "      <td>Mobile_Data</td>\n",
       "      <td>20</td>\n",
       "      <td>663.06</td>\n",
       "      <td>No</td>\n",
       "      <td>Yes</td>\n",
       "      <td>Yes</td>\n",
       "      <td>Solved</td>\n",
       "      <td>Poor Website</td>\n",
       "      <td>15</td>\n",
       "      <td>1</td>\n",
       "      <td>11358</td>\n",
       "    </tr>\n",
       "    <tr>\n",
       "      <th>5</th>\n",
       "      <td>13</td>\n",
       "      <td>M</td>\n",
       "      <td>PSG1LGF</td>\n",
       "      <td>City</td>\n",
       "      <td>Gold Membership</td>\n",
       "      <td>No</td>\n",
       "      <td>xxxxxxxx</td>\n",
       "      <td>Gift Vouchers/Coupons</td>\n",
       "      <td>Unknown</td>\n",
       "      <td>Wi-Fi</td>\n",
       "      <td>23</td>\n",
       "      <td>722.27</td>\n",
       "      <td>Yes</td>\n",
       "      <td>No</td>\n",
       "      <td>Yes</td>\n",
       "      <td>Unsolved</td>\n",
       "      <td>No reason specified</td>\n",
       "      <td>6</td>\n",
       "      <td>0</td>\n",
       "      <td>11358</td>\n",
       "    </tr>\n",
       "    <tr>\n",
       "      <th>6</th>\n",
       "      <td>21</td>\n",
       "      <td>M</td>\n",
       "      <td>R3CX1EA</td>\n",
       "      <td>Town</td>\n",
       "      <td>Gold Membership</td>\n",
       "      <td>Yes</td>\n",
       "      <td>CID24708</td>\n",
       "      <td>Gift Vouchers/Coupons</td>\n",
       "      <td>Desktop</td>\n",
       "      <td>Mobile_Data</td>\n",
       "      <td>10</td>\n",
       "      <td>756.21</td>\n",
       "      <td>Yes</td>\n",
       "      <td>No</td>\n",
       "      <td>Yes</td>\n",
       "      <td>Solved in Follow-up</td>\n",
       "      <td>No reason specified</td>\n",
       "      <td>11</td>\n",
       "      <td>0</td>\n",
       "      <td>2903</td>\n",
       "    </tr>\n",
       "    <tr>\n",
       "      <th>7</th>\n",
       "      <td>42</td>\n",
       "      <td>M</td>\n",
       "      <td>4UJ1551</td>\n",
       "      <td>Unknown</td>\n",
       "      <td>No Membership</td>\n",
       "      <td>Unknown</td>\n",
       "      <td>CID56614</td>\n",
       "      <td>Credit/Debit Card Offers</td>\n",
       "      <td>Both</td>\n",
       "      <td>Fiber_Optic</td>\n",
       "      <td>19</td>\n",
       "      <td>568.08</td>\n",
       "      <td>No</td>\n",
       "      <td>Yes</td>\n",
       "      <td>Yes</td>\n",
       "      <td>Unsolved</td>\n",
       "      <td>Poor Product Quality</td>\n",
       "      <td>7</td>\n",
       "      <td>1</td>\n",
       "      <td>9165</td>\n",
       "    </tr>\n",
       "    <tr>\n",
       "      <th>8</th>\n",
       "      <td>44</td>\n",
       "      <td>M</td>\n",
       "      <td>0481QNQ</td>\n",
       "      <td>Village</td>\n",
       "      <td>Silver Membership</td>\n",
       "      <td>No</td>\n",
       "      <td>xxxxxxxx</td>\n",
       "      <td>Without Offers</td>\n",
       "      <td>Smartphone</td>\n",
       "      <td>Fiber_Optic</td>\n",
       "      <td>15</td>\n",
       "      <td>0.00</td>\n",
       "      <td>Yes</td>\n",
       "      <td>No</td>\n",
       "      <td>Yes</td>\n",
       "      <td>Solved in Follow-up</td>\n",
       "      <td>Poor Customer Service</td>\n",
       "      <td>6</td>\n",
       "      <td>0</td>\n",
       "      <td>11358</td>\n",
       "    </tr>\n",
       "    <tr>\n",
       "      <th>9</th>\n",
       "      <td>45</td>\n",
       "      <td>F</td>\n",
       "      <td>ZHP4MCR</td>\n",
       "      <td>Town</td>\n",
       "      <td>No Membership</td>\n",
       "      <td>No</td>\n",
       "      <td>xxxxxxxx</td>\n",
       "      <td>Gift Vouchers/Coupons</td>\n",
       "      <td>Unknown</td>\n",
       "      <td>Wi-Fi</td>\n",
       "      <td>10</td>\n",
       "      <td>706.23</td>\n",
       "      <td>No</td>\n",
       "      <td>Yes</td>\n",
       "      <td>Yes</td>\n",
       "      <td>No Information Available</td>\n",
       "      <td>Poor Customer Service</td>\n",
       "      <td>19</td>\n",
       "      <td>1</td>\n",
       "      <td>11358</td>\n",
       "    </tr>\n",
       "  </tbody>\n",
       "</table>\n",
       "</div>"
      ],
      "text/plain": [
       "   age gender security_no region_category  membership_category  \\\n",
       "0   18      F     XW0DQ7H         Village  Platinum Membership   \n",
       "1   32      F     5K0N3X1            City   Premium Membership   \n",
       "2   44      F     1F2TCL3            Town        No Membership   \n",
       "3   37      M     VJGJ33N            City        No Membership   \n",
       "4   31      F     SVZXCWB            City        No Membership   \n",
       "5   13      M     PSG1LGF            City      Gold Membership   \n",
       "6   21      M     R3CX1EA            Town      Gold Membership   \n",
       "7   42      M     4UJ1551         Unknown        No Membership   \n",
       "8   44      M     0481QNQ         Village    Silver Membership   \n",
       "9   45      F     ZHP4MCR            Town        No Membership   \n",
       "\n",
       "  joined_through_referral referral_id     preferred_offer_types  \\\n",
       "0                      No    xxxxxxxx     Gift Vouchers/Coupons   \n",
       "1                 Unknown    CID21329     Gift Vouchers/Coupons   \n",
       "2                     Yes    CID12313     Gift Vouchers/Coupons   \n",
       "3                     Yes     CID3793     Gift Vouchers/Coupons   \n",
       "4                      No    xxxxxxxx  Credit/Debit Card Offers   \n",
       "5                      No    xxxxxxxx     Gift Vouchers/Coupons   \n",
       "6                     Yes    CID24708     Gift Vouchers/Coupons   \n",
       "7                 Unknown    CID56614  Credit/Debit Card Offers   \n",
       "8                      No    xxxxxxxx            Without Offers   \n",
       "9                      No    xxxxxxxx     Gift Vouchers/Coupons   \n",
       "\n",
       "  medium_of_operation internet_option  days_since_last_login  \\\n",
       "0             Unknown           Wi-Fi                     17   \n",
       "1             Desktop     Mobile_Data                     16   \n",
       "2             Desktop           Wi-Fi                     14   \n",
       "3             Desktop     Mobile_Data                     11   \n",
       "4          Smartphone     Mobile_Data                     20   \n",
       "5             Unknown           Wi-Fi                     23   \n",
       "6             Desktop     Mobile_Data                     10   \n",
       "7                Both     Fiber_Optic                     19   \n",
       "8          Smartphone     Fiber_Optic                     15   \n",
       "9             Unknown           Wi-Fi                     10   \n",
       "\n",
       "   points_in_wallet used_special_discount offer_application_preference  \\\n",
       "0            781.75                   Yes                          Yes   \n",
       "1              0.00                   Yes                           No   \n",
       "2            500.69                    No                          Yes   \n",
       "3            567.66                    No                          Yes   \n",
       "4            663.06                    No                          Yes   \n",
       "5            722.27                   Yes                           No   \n",
       "6            756.21                   Yes                           No   \n",
       "7            568.08                    No                          Yes   \n",
       "8              0.00                   Yes                           No   \n",
       "9            706.23                    No                          Yes   \n",
       "\n",
       "  past_complaint          complaint_status                  feedback  \\\n",
       "0             No            Not Applicable  Products always in Stock   \n",
       "1            Yes                    Solved     Quality Customer Care   \n",
       "2            Yes       Solved in Follow-up              Poor Website   \n",
       "3            Yes                  Unsolved              Poor Website   \n",
       "4            Yes                    Solved              Poor Website   \n",
       "5            Yes                  Unsolved       No reason specified   \n",
       "6            Yes       Solved in Follow-up       No reason specified   \n",
       "7            Yes                  Unsolved      Poor Product Quality   \n",
       "8            Yes       Solved in Follow-up     Poor Customer Service   \n",
       "9            Yes  No Information Available     Poor Customer Service   \n",
       "\n",
       "   last_visit_hour  churn_risk_score  referral_id_enc  \n",
       "0               16                 0            11358  \n",
       "1               12                 0             2225  \n",
       "2               22                 1              471  \n",
       "3               15                 1             5506  \n",
       "4               15                 1            11358  \n",
       "5                6                 0            11358  \n",
       "6               11                 0             2903  \n",
       "7                7                 1             9165  \n",
       "8                6                 0            11358  \n",
       "9               19                 1            11358  "
      ]
     },
     "execution_count": 16,
     "metadata": {},
     "output_type": "execute_result"
    }
   ],
   "source": [
    "from sklearn.preprocessing import LabelEncoder\n",
    "df['referral_id_enc'] = LabelEncoder().fit_transform(df['referral_id'])\n",
    "df.head(10)"
   ]
  },
  {
   "cell_type": "code",
   "execution_count": 17,
   "id": "5cc528da-ec4e-49a7-a17a-a1d7edb36c0a",
   "metadata": {},
   "outputs": [],
   "source": [
    "#one hot encode these columns\n",
    "categorical_columns = ['gender', 'region_category', 'membership_category', 'joined_through_referral', 'preferred_offer_types',\n",
    "                       'medium_of_operation', 'internet_option', 'used_special_discount', 'offer_application_preference', 'past_complaint',\n",
    "                       'complaint_status', 'feedback']\n",
    "dummy_df = pd.get_dummies(df,columns= categorical_columns)"
   ]
  },
  {
   "cell_type": "code",
   "execution_count": 18,
   "id": "90d470ff-8883-4de7-a00d-edf373cf9317",
   "metadata": {},
   "outputs": [
    {
     "name": "stdout",
     "output_type": "stream",
     "text": [
      "<class 'pandas.core.frame.DataFrame'>\n",
      "RangeIndex: 36992 entries, 0 to 36991\n",
      "Data columns (total 55 columns):\n",
      " #   Column                                          Non-Null Count  Dtype  \n",
      "---  ------                                          --------------  -----  \n",
      " 0   age                                             36992 non-null  int64  \n",
      " 1   security_no                                     36992 non-null  object \n",
      " 2   referral_id                                     36992 non-null  object \n",
      " 3   days_since_last_login                           36992 non-null  int64  \n",
      " 4   points_in_wallet                                36992 non-null  float64\n",
      " 5   last_visit_hour                                 36992 non-null  int64  \n",
      " 6   churn_risk_score                                36992 non-null  int64  \n",
      " 7   referral_id_enc                                 36992 non-null  int64  \n",
      " 8   gender_F                                        36992 non-null  uint8  \n",
      " 9   gender_M                                        36992 non-null  uint8  \n",
      " 10  gender_Unknown                                  36992 non-null  uint8  \n",
      " 11  region_category_City                            36992 non-null  uint8  \n",
      " 12  region_category_Town                            36992 non-null  uint8  \n",
      " 13  region_category_Unknown                         36992 non-null  uint8  \n",
      " 14  region_category_Village                         36992 non-null  uint8  \n",
      " 15  membership_category_Basic Membership            36992 non-null  uint8  \n",
      " 16  membership_category_Gold Membership             36992 non-null  uint8  \n",
      " 17  membership_category_No Membership               36992 non-null  uint8  \n",
      " 18  membership_category_Platinum Membership         36992 non-null  uint8  \n",
      " 19  membership_category_Premium Membership          36992 non-null  uint8  \n",
      " 20  membership_category_Silver Membership           36992 non-null  uint8  \n",
      " 21  joined_through_referral_No                      36992 non-null  uint8  \n",
      " 22  joined_through_referral_Unknown                 36992 non-null  uint8  \n",
      " 23  joined_through_referral_Yes                     36992 non-null  uint8  \n",
      " 24  preferred_offer_types_Credit/Debit Card Offers  36992 non-null  uint8  \n",
      " 25  preferred_offer_types_Gift Vouchers/Coupons     36992 non-null  uint8  \n",
      " 26  preferred_offer_types_Unknown                   36992 non-null  uint8  \n",
      " 27  preferred_offer_types_Without Offers            36992 non-null  uint8  \n",
      " 28  medium_of_operation_Both                        36992 non-null  uint8  \n",
      " 29  medium_of_operation_Desktop                     36992 non-null  uint8  \n",
      " 30  medium_of_operation_Smartphone                  36992 non-null  uint8  \n",
      " 31  medium_of_operation_Unknown                     36992 non-null  uint8  \n",
      " 32  internet_option_Fiber_Optic                     36992 non-null  uint8  \n",
      " 33  internet_option_Mobile_Data                     36992 non-null  uint8  \n",
      " 34  internet_option_Wi-Fi                           36992 non-null  uint8  \n",
      " 35  used_special_discount_No                        36992 non-null  uint8  \n",
      " 36  used_special_discount_Yes                       36992 non-null  uint8  \n",
      " 37  offer_application_preference_No                 36992 non-null  uint8  \n",
      " 38  offer_application_preference_Yes                36992 non-null  uint8  \n",
      " 39  past_complaint_No                               36992 non-null  uint8  \n",
      " 40  past_complaint_Yes                              36992 non-null  uint8  \n",
      " 41  complaint_status_No Information Available       36992 non-null  uint8  \n",
      " 42  complaint_status_Not Applicable                 36992 non-null  uint8  \n",
      " 43  complaint_status_Solved                         36992 non-null  uint8  \n",
      " 44  complaint_status_Solved in Follow-up            36992 non-null  uint8  \n",
      " 45  complaint_status_Unsolved                       36992 non-null  uint8  \n",
      " 46  feedback_No reason specified                    36992 non-null  uint8  \n",
      " 47  feedback_Poor Customer Service                  36992 non-null  uint8  \n",
      " 48  feedback_Poor Product Quality                   36992 non-null  uint8  \n",
      " 49  feedback_Poor Website                           36992 non-null  uint8  \n",
      " 50  feedback_Products always in Stock               36992 non-null  uint8  \n",
      " 51  feedback_Quality Customer Care                  36992 non-null  uint8  \n",
      " 52  feedback_Reasonable Price                       36992 non-null  uint8  \n",
      " 53  feedback_Too many ads                           36992 non-null  uint8  \n",
      " 54  feedback_User Friendly Website                  36992 non-null  uint8  \n",
      "dtypes: float64(1), int64(5), object(2), uint8(47)\n",
      "memory usage: 3.9+ MB\n"
     ]
    }
   ],
   "source": [
    "dummy_df.info()"
   ]
  },
  {
   "cell_type": "markdown",
   "id": "f47ed0fe-8188-4037-8e26-c73fe47ae3ee",
   "metadata": {},
   "source": [
    "### Train/Test Split"
   ]
  },
  {
   "cell_type": "code",
   "execution_count": 19,
   "id": "0e6da371-0814-43a2-afcc-f34136cfaaae",
   "metadata": {},
   "outputs": [],
   "source": [
    "from sklearn.model_selection import train_test_split"
   ]
  },
  {
   "cell_type": "code",
   "execution_count": 20,
   "id": "16678a5f-5017-4b43-81f1-afa74e995a35",
   "metadata": {},
   "outputs": [],
   "source": [
    "#Features\n",
    "X = dummy_df.loc[:, ~dummy_df.columns.isin(['churn_risk_score', 'security_no','referral_id'])]"
   ]
  },
  {
   "cell_type": "code",
   "execution_count": 21,
   "id": "19cde1bd-c280-4e41-8356-07aa6bde0513",
   "metadata": {},
   "outputs": [
    {
     "name": "stdout",
     "output_type": "stream",
     "text": [
      "<class 'pandas.core.frame.DataFrame'>\n",
      "RangeIndex: 36992 entries, 0 to 36991\n",
      "Data columns (total 52 columns):\n",
      " #   Column                                          Non-Null Count  Dtype  \n",
      "---  ------                                          --------------  -----  \n",
      " 0   age                                             36992 non-null  int64  \n",
      " 1   days_since_last_login                           36992 non-null  int64  \n",
      " 2   points_in_wallet                                36992 non-null  float64\n",
      " 3   last_visit_hour                                 36992 non-null  int64  \n",
      " 4   referral_id_enc                                 36992 non-null  int64  \n",
      " 5   gender_F                                        36992 non-null  uint8  \n",
      " 6   gender_M                                        36992 non-null  uint8  \n",
      " 7   gender_Unknown                                  36992 non-null  uint8  \n",
      " 8   region_category_City                            36992 non-null  uint8  \n",
      " 9   region_category_Town                            36992 non-null  uint8  \n",
      " 10  region_category_Unknown                         36992 non-null  uint8  \n",
      " 11  region_category_Village                         36992 non-null  uint8  \n",
      " 12  membership_category_Basic Membership            36992 non-null  uint8  \n",
      " 13  membership_category_Gold Membership             36992 non-null  uint8  \n",
      " 14  membership_category_No Membership               36992 non-null  uint8  \n",
      " 15  membership_category_Platinum Membership         36992 non-null  uint8  \n",
      " 16  membership_category_Premium Membership          36992 non-null  uint8  \n",
      " 17  membership_category_Silver Membership           36992 non-null  uint8  \n",
      " 18  joined_through_referral_No                      36992 non-null  uint8  \n",
      " 19  joined_through_referral_Unknown                 36992 non-null  uint8  \n",
      " 20  joined_through_referral_Yes                     36992 non-null  uint8  \n",
      " 21  preferred_offer_types_Credit/Debit Card Offers  36992 non-null  uint8  \n",
      " 22  preferred_offer_types_Gift Vouchers/Coupons     36992 non-null  uint8  \n",
      " 23  preferred_offer_types_Unknown                   36992 non-null  uint8  \n",
      " 24  preferred_offer_types_Without Offers            36992 non-null  uint8  \n",
      " 25  medium_of_operation_Both                        36992 non-null  uint8  \n",
      " 26  medium_of_operation_Desktop                     36992 non-null  uint8  \n",
      " 27  medium_of_operation_Smartphone                  36992 non-null  uint8  \n",
      " 28  medium_of_operation_Unknown                     36992 non-null  uint8  \n",
      " 29  internet_option_Fiber_Optic                     36992 non-null  uint8  \n",
      " 30  internet_option_Mobile_Data                     36992 non-null  uint8  \n",
      " 31  internet_option_Wi-Fi                           36992 non-null  uint8  \n",
      " 32  used_special_discount_No                        36992 non-null  uint8  \n",
      " 33  used_special_discount_Yes                       36992 non-null  uint8  \n",
      " 34  offer_application_preference_No                 36992 non-null  uint8  \n",
      " 35  offer_application_preference_Yes                36992 non-null  uint8  \n",
      " 36  past_complaint_No                               36992 non-null  uint8  \n",
      " 37  past_complaint_Yes                              36992 non-null  uint8  \n",
      " 38  complaint_status_No Information Available       36992 non-null  uint8  \n",
      " 39  complaint_status_Not Applicable                 36992 non-null  uint8  \n",
      " 40  complaint_status_Solved                         36992 non-null  uint8  \n",
      " 41  complaint_status_Solved in Follow-up            36992 non-null  uint8  \n",
      " 42  complaint_status_Unsolved                       36992 non-null  uint8  \n",
      " 43  feedback_No reason specified                    36992 non-null  uint8  \n",
      " 44  feedback_Poor Customer Service                  36992 non-null  uint8  \n",
      " 45  feedback_Poor Product Quality                   36992 non-null  uint8  \n",
      " 46  feedback_Poor Website                           36992 non-null  uint8  \n",
      " 47  feedback_Products always in Stock               36992 non-null  uint8  \n",
      " 48  feedback_Quality Customer Care                  36992 non-null  uint8  \n",
      " 49  feedback_Reasonable Price                       36992 non-null  uint8  \n",
      " 50  feedback_Too many ads                           36992 non-null  uint8  \n",
      " 51  feedback_User Friendly Website                  36992 non-null  uint8  \n",
      "dtypes: float64(1), int64(4), uint8(47)\n",
      "memory usage: 3.1 MB\n"
     ]
    }
   ],
   "source": [
    "X.info()"
   ]
  },
  {
   "cell_type": "code",
   "execution_count": 22,
   "id": "a1cecfb1-505c-4534-b920-bef7e150d9e6",
   "metadata": {},
   "outputs": [],
   "source": [
    "#Target\n",
    "y = dummy_df['churn_risk_score']"
   ]
  },
  {
   "cell_type": "code",
   "execution_count": 23,
   "id": "06f77358-302c-4988-ad00-d255d6ffc8df",
   "metadata": {},
   "outputs": [],
   "source": [
    "X_train, X_test, y_train, y_test = train_test_split(X, y,test_size=0.25)"
   ]
  },
  {
   "cell_type": "markdown",
   "id": "c56a6805-bc78-4e94-a6e2-5aed6c229048",
   "metadata": {},
   "source": [
    "### Modeling"
   ]
  },
  {
   "cell_type": "code",
   "execution_count": 26,
   "id": "b17ae194-3b04-4657-a9dd-847ab88cd1b2",
   "metadata": {},
   "outputs": [],
   "source": [
    "from sklearn.linear_model import LogisticRegression\n",
    "from sklearn.naive_bayes import BernoulliNB\n",
    "from sklearn.tree import DecisionTreeClassifier\n",
    "from sklearn.ensemble import RandomForestClassifier\n",
    "from sklearn.svm import SVC"
   ]
  },
  {
   "cell_type": "code",
   "execution_count": 27,
   "id": "dd7610cc-5672-443b-96dd-f01907a6ea18",
   "metadata": {},
   "outputs": [],
   "source": [
    "from sklearn.metrics import classification_report"
   ]
  },
  {
   "cell_type": "code",
   "execution_count": 28,
   "id": "a11277d0-bb93-4c82-9b26-2389c0ed089a",
   "metadata": {},
   "outputs": [
    {
     "name": "stderr",
     "output_type": "stream",
     "text": [
      "/opt/anaconda3/lib/python3.9/site-packages/sklearn/linear_model/_logistic.py:444: ConvergenceWarning: lbfgs failed to converge (status=1):\n",
      "STOP: TOTAL NO. of ITERATIONS REACHED LIMIT.\n",
      "\n",
      "Increase the number of iterations (max_iter) or scale the data as shown in:\n",
      "    https://scikit-learn.org/stable/modules/preprocessing.html\n",
      "Please also refer to the documentation for alternative solver options:\n",
      "    https://scikit-learn.org/stable/modules/linear_model.html#logistic-regression\n",
      "  n_iter_i = _check_optimize_result(\n"
     ]
    }
   ],
   "source": [
    "#Logistic Regression\n",
    "log_reg = LogisticRegression()\n",
    "log_reg.fit(X_train, y_train)\n",
    "log_y_pred = log_reg.predict(X_test)"
   ]
  },
  {
   "cell_type": "code",
   "execution_count": 29,
   "id": "d0ef2e37-807a-4964-bbf6-d1dca1b1dcf0",
   "metadata": {},
   "outputs": [
    {
     "name": "stdout",
     "output_type": "stream",
     "text": [
      "Logistic Regression\n",
      "              precision    recall  f1-score   support\n",
      "\n",
      "           0       0.81      0.87      0.84      4240\n",
      "           1       0.88      0.83      0.86      5008\n",
      "\n",
      "    accuracy                           0.85      9248\n",
      "   macro avg       0.85      0.85      0.85      9248\n",
      "weighted avg       0.85      0.85      0.85      9248\n",
      "\n"
     ]
    }
   ],
   "source": [
    "print('Logistic Regression')\n",
    "print(classification_report(y_test, log_y_pred))"
   ]
  },
  {
   "cell_type": "code",
   "execution_count": 30,
   "id": "31cd8253-f3e6-42a6-ac1f-b8f19bd9f9c2",
   "metadata": {},
   "outputs": [],
   "source": [
    "#GaussianNB (Naive Bayes)\n",
    "nb =  BernoulliNB()\n",
    "nb.fit(X_train,y_train)\n",
    "y_nb_pred = nb.predict(X_test)"
   ]
  },
  {
   "cell_type": "code",
   "execution_count": 31,
   "id": "44b19bfc-fc37-4790-b83b-a7dc02e77a88",
   "metadata": {},
   "outputs": [
    {
     "name": "stdout",
     "output_type": "stream",
     "text": [
      "Naive Bayes Classifier\n",
      "              precision    recall  f1-score   support\n",
      "\n",
      "           0       0.80      0.87      0.84      4240\n",
      "           1       0.88      0.82      0.85      5008\n",
      "\n",
      "    accuracy                           0.84      9248\n",
      "   macro avg       0.84      0.84      0.84      9248\n",
      "weighted avg       0.85      0.84      0.84      9248\n",
      "\n"
     ]
    }
   ],
   "source": [
    "print('Naive Bayes Classifier')\n",
    "print(classification_report(y_test, y_nb_pred))"
   ]
  },
  {
   "cell_type": "code",
   "execution_count": 32,
   "id": "bac5403e-ad94-4458-8187-df63d2766aac",
   "metadata": {},
   "outputs": [],
   "source": [
    "import numpy as np "
   ]
  },
  {
   "cell_type": "code",
   "execution_count": 39,
   "id": "e8674dca-18ce-42ef-8d21-71006b50d927",
   "metadata": {},
   "outputs": [
    {
     "name": "stdout",
     "output_type": "stream",
     "text": [
      "Index(['age', 'points_in_wallet', 'days_since_last_login', 'security_no',\n",
      "       'referral_id', 'internet_option_Mobile_Data',\n",
      "       'used_special_discount_No', 'past_complaint_No',\n",
      "       'used_special_discount_Yes', 'churn_risk_score'],\n",
      "      dtype='object')\n",
      "Index(['age', 'points_in_wallet', 'days_since_last_login', 'security_no',\n",
      "       'referral_id', 'used_special_discount_No',\n",
      "       'internet_option_Mobile_Data', 'last_visit_hour',\n",
      "       'offer_application_preference_No', 'past_complaint_No'],\n",
      "      dtype='object')\n"
     ]
    }
   ],
   "source": [
    "neg_class_prob_sorted = nb.feature_log_prob_[0, :].argsort()[::-1]\n",
    "pos_class_prob_sorted = nb.feature_log_prob_[1, :].argsort()[::-1]\n",
    "\n",
    "#Columns with the highest probability in each vector\n",
    "print(np.take(dummy_df.columns, neg_class_prob_sorted[:10]))\n",
    "print(np.take(dummy_df.columns, pos_class_prob_sorted[:10]))"
   ]
  },
  {
   "cell_type": "code",
   "execution_count": 33,
   "id": "aa59a192-3471-423a-8489-04a6bc6224fc",
   "metadata": {},
   "outputs": [],
   "source": [
    "#DecisionTreeClassifier\n",
    "DTC = DecisionTreeClassifier()\n",
    "DTC.fit(X_train,y_train)\n",
    "y_DTC_pred = DTC.predict(X_test)"
   ]
  },
  {
   "cell_type": "code",
   "execution_count": 34,
   "id": "826c55c7-28aa-434c-a54f-2d6a25b42e1f",
   "metadata": {},
   "outputs": [
    {
     "name": "stdout",
     "output_type": "stream",
     "text": [
      "Decision Tree Classifier\n",
      "              precision    recall  f1-score   support\n",
      "\n",
      "           0       0.90      0.91      0.90      4269\n",
      "           1       0.92      0.91      0.92      4979\n",
      "\n",
      "    accuracy                           0.91      9248\n",
      "   macro avg       0.91      0.91      0.91      9248\n",
      "weighted avg       0.91      0.91      0.91      9248\n",
      "\n"
     ]
    }
   ],
   "source": [
    "print('Decision Tree Classifier')\n",
    "print(classification_report(y_test, y_DTC_pred))"
   ]
  },
  {
   "cell_type": "code",
   "execution_count": 79,
   "id": "a155322c-9ff1-4771-92fc-e5e7e194dc5e",
   "metadata": {},
   "outputs": [
    {
     "data": {
      "text/plain": [
       "Text(0.5, 0, 'Feature Importance for Decision Tree Classifier')"
      ]
     },
     "execution_count": 79,
     "metadata": {},
     "output_type": "execute_result"
    },
    {
     "data": {
      "image/png": "[encoded data removed]",
      "text/plain": [
       "<Figure size 432x288 with 1 Axes>"
      ]
     },
     "metadata": {
      "needs_background": "light"
     },
     "output_type": "display_data"
    }
   ],
   "source": [
    "sort_DT = DTC.feature_importances_.argsort()[:10]\n",
    "plt.barh(X.columns[sort], DTC.feature_importances_[sort])\n",
    "plt.xlabel(\"Feature Importance for Decision Tree Classifier\")"
   ]
  },
  {
   "cell_type": "code",
   "execution_count": 35,
   "id": "86b0e942-f0bf-43e8-bd0a-eab019bd359a",
   "metadata": {},
   "outputs": [],
   "source": [
    "#RandomForestClassifier\n",
    "RF = RandomForestClassifier(n_estimators=1000, max_depth=10,class_weight=\"balanced\")\n",
    "RF.fit(X_train,y_train)\n",
    "y_rf_pred = RF.predict(X_test)"
   ]
  },
  {
   "cell_type": "code",
   "execution_count": 36,
   "id": "b3a48fcb-a134-4464-a835-bced7a0dbf38",
   "metadata": {},
   "outputs": [
    {
     "name": "stdout",
     "output_type": "stream",
     "text": [
      "Random Forest Classifier\n",
      "              precision    recall  f1-score   support\n",
      "\n",
      "           0       0.94      0.91      0.92      4269\n",
      "           1       0.92      0.95      0.93      4979\n",
      "\n",
      "    accuracy                           0.93      9248\n",
      "   macro avg       0.93      0.93      0.93      9248\n",
      "weighted avg       0.93      0.93      0.93      9248\n",
      "\n"
     ]
    }
   ],
   "source": [
    "print('Random Forest Classifier')\n",
    "print(classification_report(y_test, y_rf_pred))"
   ]
  },
  {
   "cell_type": "code",
   "execution_count": 78,
   "id": "caecdcaf-22a0-4286-9c95-0dddc9dffd27",
   "metadata": {},
   "outputs": [
    {
     "data": {
      "text/plain": [
       "Text(0.5, 0, 'Feature Importance for Random Forest')"
      ]
     },
     "execution_count": 78,
     "metadata": {},
     "output_type": "execute_result"
    },
    {
     "data": {
      "image/png": "[encoded data removed]",
      "text/plain": [
       "<Figure size 432x288 with 1 Axes>"
      ]
     },
     "metadata": {
      "needs_background": "light"
     },
     "output_type": "display_data"
    }
   ],
   "source": [
    "sort = RF.feature_importances_.argsort()[:10]\n",
    "plt.barh(X.columns[sort], RF.feature_importances_[sort])\n",
    "plt.xlabel(\"Feature Importance for Random Forest\")\n"
   ]
  },
  {
   "cell_type": "code",
   "execution_count": 37,
   "id": "484947f5-f5e4-49cf-8d8a-e423040df429",
   "metadata": {},
   "outputs": [],
   "source": [
    "#SVC\n",
    "SV = SVC()\n",
    "SV.fit(X_train,y_train)\n",
    "y_SVC_pred = SV.predict(X_test)"
   ]
  },
  {
   "cell_type": "code",
   "execution_count": 38,
   "id": "4ecb6b15-1a37-424f-b599-e4238db815ac",
   "metadata": {},
   "outputs": [
    {
     "name": "stdout",
     "output_type": "stream",
     "text": [
      "Support Vector Classification\n",
      "              precision    recall  f1-score   support\n",
      "\n",
      "           0       0.81      0.41      0.55      4269\n",
      "           1       0.65      0.91      0.76      4979\n",
      "\n",
      "    accuracy                           0.68      9248\n",
      "   macro avg       0.73      0.66      0.65      9248\n",
      "weighted avg       0.72      0.68      0.66      9248\n",
      "\n"
     ]
    }
   ],
   "source": [
    "print('Support Vector Classification')\n",
    "print(classification_report(y_test, y_SVC_pred))"
   ]
  },
  {
   "cell_type": "markdown",
   "id": "bcfa644d-7147-4902-bad0-57edfbcf665c",
   "metadata": {},
   "source": [
    "#### Conclusion"
   ]
  },
  {
   "cell_type": "markdown",
   "id": "783c34ab-368e-4d92-92a8-f217d22834a8",
   "metadata": {},
   "source": [
    "Based on the classification reports, the best model to use would be the Random Forest Classifier. The data was split into 25% for testing and 75% for training since the problem we are trying to solve is whether a customer churned or not. The next step would be to get the response variable which is categorical in nature. "
   ]
  }
 ],
 "metadata": {
  "kernelspec": {
   "display_name": "Python 3 (ipykernel)",
   "language": "python",
   "name": "python3"
  },
  "language_info": {
   "codemirror_mode": {
    "name": "ipython",
    "version": 3
   },
   "file_extension": ".py",
   "mimetype": "text/x-python",
   "name": "python",
   "nbconvert_exporter": "python",
   "pygments_lexer": "ipython3",
   "version": "3.9.12"
  }
 },
 "nbformat": 4,
 "nbformat_minor": 5
}
